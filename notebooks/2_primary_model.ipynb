{
 "cells": [
  {
   "cell_type": "code",
   "execution_count": 1,
   "metadata": {},
   "outputs": [],
   "source": [
    "import sys\n",
    "sys.path.append(\"..\")\n",
    "\n",
    "from rdkit.Chem.Draw import IPythonConsole, MolsToGridImage"
   ]
  },
  {
   "cell_type": "code",
   "execution_count": 2,
   "metadata": {},
   "outputs": [
    {
     "name": "stdout",
     "output_type": "stream",
     "text": [
      "Creating building block dataset...\n"
     ]
    },
    {
     "name": "stderr",
     "output_type": "stream",
     "text": [
      "Processing...\n"
     ]
    },
    {
     "name": "stdout",
     "output_type": "stream",
     "text": [
      "Loading building blocks...\n"
     ]
    },
    {
     "name": "stderr",
     "output_type": "stream",
     "text": [
      "100%|██████████| 1920/1920 [00:02<00:00, 734.05it/s]"
     ]
    },
    {
     "name": "stdout",
     "output_type": "stream",
     "text": [
      "Creating conformers for building blocks...\n"
     ]
    },
    {
     "name": "stderr",
     "output_type": "stream",
     "text": [
      "\n",
      "100%|██████████| 1920/1920 [00:01<00:00, 1496.14it/s]\n"
     ]
    },
    {
     "name": "stdout",
     "output_type": "stream",
     "text": [
      "Featurizing building blocks...\n"
     ]
    },
    {
     "name": "stderr",
     "output_type": "stream",
     "text": [
      "100%|██████████| 1920/1920 [00:01<00:00, 998.18it/s] \n"
     ]
    },
    {
     "name": "stdout",
     "output_type": "stream",
     "text": [
      "Featurizing building block conformers...\n"
     ]
    },
    {
     "name": "stderr",
     "output_type": "stream",
     "text": [
      "100%|██████████| 1920/1920 [00:04<00:00, 376.80it/s]\n",
      "Done!\n"
     ]
    },
    {
     "name": "stdout",
     "output_type": "stream",
     "text": [
      "Creating reaction dataset...\n"
     ]
    },
    {
     "name": "stderr",
     "output_type": "stream",
     "text": [
      "Processing...\n"
     ]
    },
    {
     "name": "stdout",
     "output_type": "stream",
     "text": [
      "Loading reactions...\n",
      "Featurizing reactions...\n"
     ]
    },
    {
     "name": "stderr",
     "output_type": "stream",
     "text": [
      "100%|██████████| 2/2 [00:00<00:00, 6218.39it/s]\n",
      "Done!\n",
      "Processing...\n"
     ]
    },
    {
     "name": "stdout",
     "output_type": "stream",
     "text": [
      "Matching building blocks and reactions...\n"
     ]
    },
    {
     "name": "stderr",
     "output_type": "stream",
     "text": [
      "100%|██████████| 2/2 [00:00<00:00,  3.16it/s]\n",
      "100%|██████████| 1920/1920 [00:00<00:00, 6016.55it/s]\n"
     ]
    },
    {
     "name": "stdout",
     "output_type": "stream",
     "text": [
      "Constructing searcher for every rxn reactant...\n"
     ]
    },
    {
     "name": "stderr",
     "output_type": "stream",
     "text": [
      "100%|██████████| 2/2 [00:00<00:00, 415.20it/s]\n"
     ]
    },
    {
     "name": "stdout",
     "output_type": "stream",
     "text": [
      "Constructing conformer searcher for every building block...\n"
     ]
    },
    {
     "name": "stderr",
     "output_type": "stream",
     "text": [
      "100%|██████████| 1920/1920 [00:00<00:00, 6024.50it/s]\n",
      "Done!\n"
     ]
    }
   ],
   "source": [
    "from src.data.dataset import CRBBDataset\n",
    "\n",
    "crbbd = CRBBDataset(rxn_files=['../data/raw/rxn.txt'], \n",
    "                    bb_files=['../data/raw/EnamineHighFidFrags.sdf'], \n",
    "                    force_reload=True,\n",
    "                    maxseqlen=2)"
   ]
  },
  {
   "cell_type": "code",
   "execution_count": 3,
   "metadata": {},
   "outputs": [
    {
     "name": "stdout",
     "output_type": "stream",
     "text": [
      "Pre-generating data for dataset...\n"
     ]
    },
    {
     "name": "stderr",
     "output_type": "stream",
     "text": [
      "100%|██████████| 552/552 [00:05<00:00, 88.08it/s] \n",
      "100%|██████████| 552/552 [00:05<00:00, 79.26it/s] \n"
     ]
    }
   ],
   "source": [
    "crbbd.pregenerate_data(multiplier=2, clear=True, n_proc=12)\n",
    "crbbd.save_pregen()\n",
    "\n",
    "crbbd.load_pregen()"
   ]
  },
  {
   "cell_type": "code",
   "execution_count": 6,
   "metadata": {},
   "outputs": [
    {
     "data": {
      "application/3dmoljs_load.v0": "<div id=\"3dmolviewer_173091711540627\"  style=\"position: relative; width: 400px; height: 400px;\">\n        <p id=\"3dmolwarning_173091711540627\" style=\"background-color:#ffcccc;color:black\">3Dmol.js failed to load for some reason.  Please check your browser console for error messages.<br></p>\n        </div>\n<script>\n\nvar loadScriptAsync = function(uri){\n  return new Promise((resolve, reject) => {\n    //this is to ignore the existence of requirejs amd\n    var savedexports, savedmodule;\n    if (typeof exports !== 'undefined') savedexports = exports;\n    else exports = {}\n    if (typeof module !== 'undefined') savedmodule = module;\n    else module = {}\n\n    var tag = document.createElement('script');\n    tag.src = uri;\n    tag.async = true;\n    tag.onload = () => {\n        exports = savedexports;\n        module = savedmodule;\n        resolve();\n    };\n  var firstScriptTag = document.getElementsByTagName('script')[0];\n  firstScriptTag.parentNode.insertBefore(tag, firstScriptTag);\n});\n};\n\nif(typeof $3Dmolpromise === 'undefined') {\n$3Dmolpromise = null;\n  $3Dmolpromise = loadScriptAsync('https://cdnjs.cloudflare.com/ajax/libs/3Dmol/2.4.0/3Dmol-min.js');\n}\n\nvar viewer_173091711540627 = null;\nvar warn = document.getElementById(\"3dmolwarning_173091711540627\");\nif(warn) {\n    warn.parentNode.removeChild(warn);\n}\n$3Dmolpromise.then(function() {\nviewer_173091711540627 = $3Dmol.createViewer(document.getElementById(\"3dmolviewer_173091711540627\"),{backgroundColor:\"white\"});\nviewer_173091711540627.zoomTo();\n\tviewer_173091711540627.removeAllModels();\n\tviewer_173091711540627.addModel(\"\\n     RDKit          3D\\n\\n 27 27  0  0  0  0  0  0  0  0999 V2000\\n    4.8413   -0.3690    1.2878 C   0  0  0  0  0  0  0  0  0  0  0  0\\n    4.2438    0.2321    0.0761 C   0  0  2  0  0  0  0  0  0  0  0  0\\n    4.7042    1.6798    0.2532 C   0  0  0  0  0  0  0  0  0  0  0  0\\n    3.7665    2.3731   -0.5703 C   0  0  0  0  0  0  0  0  0  0  0  0\\n    2.4172    1.7789   -0.3069 C   0  0  0  0  0  0  0  0  0  0  0  0\\n    2.7237    0.3518    0.1439 C   0  0  1  0  0  0  0  0  0  0  0  0\\n    1.9841   -0.6684   -0.5946 N   0  0  0  0  0  0  0  0  0  0  0  0\\n    0.5517   -0.4800   -0.3657 C   0  0  0  0  0  0  0  0  0  0  0  0\\n   -0.3196   -1.4279   -1.1888 C   0  0  0  0  0  0  0  0  0  0  0  0\\n   -1.7091   -1.2727   -0.8324 O   0  0  0  0  0  0  0  0  0  0  0  0\\n    4.4459   -1.3949    1.4154 H   0  0  0  0  0  0  0  0  0  0  0  0\\n    4.6086    0.2167    2.1785 H   0  0  0  0  0  0  0  0  0  0  0  0\\n    5.9192   -0.4302    1.1457 H   0  0  0  0  0  0  0  0  0  0  0  0\\n    4.5973   -0.1460   -0.8753 H   0  0  0  0  0  0  0  0  0  0  0  0\\n    4.6452    2.0426    1.2859 H   0  0  0  0  0  0  0  0  0  0  0  0\\n    5.7505    1.7061   -0.0722 H   0  0  0  0  0  0  0  0  0  0  0  0\\n    3.7078    3.4597   -0.3546 H   0  0  0  0  0  0  0  0  0  0  0  0\\n    3.9976    2.2659   -1.6509 H   0  0  0  0  0  0  0  0  0  0  0  0\\n    1.8251    1.7489   -1.2413 H   0  0  0  0  0  0  0  0  0  0  0  0\\n    1.8654    2.3297    0.4806 H   0  0  0  0  0  0  0  0  0  0  0  0\\n    2.4168    0.2595    1.2038 H   0  0  0  0  0  0  0  0  0  0  0  0\\n    2.2293   -0.7210   -1.5946 H   0  0  0  0  0  0  0  0  0  0  0  0\\n    0.2229    0.5475   -0.5566 H   0  0  0  0  0  0  0  0  0  0  0  0\\n    0.3982   -0.7890    0.6999 H   0  0  0  0  0  0  0  0  0  0  0  0\\n   -0.2707   -1.0552   -2.2376 H   0  0  0  0  0  0  0  0  0  0  0  0\\n   -0.0154   -2.4734   -1.0759 H   0  0  0  0  0  0  0  0  0  0  0  0\\n   -2.0763   -2.1470   -0.5600 H   0  0  0  0  0  0  0  0  0  0  0  0\\n  1  2  1  0\\n  2  3  1  0\\n  3  4  1  0\\n  4  5  1  0\\n  5  6  1  0\\n  2  6  1  0\\n  6  7  1  0\\n  7  8  1  0\\n  8  9  1  0\\n  9 10  1  0\\n  1 11  1  0\\n  1 12  1  0\\n  1 13  1  0\\n  2 14  1  6\\n  3 15  1  0\\n  3 16  1  0\\n  4 17  1  0\\n  4 18  1  0\\n  5 19  1  0\\n  5 20  1  0\\n  6 21  1  1\\n  7 22  1  0\\n  8 23  1  0\\n  8 24  1  0\\n  9 25  1  0\\n  9 26  1  0\\n 10 27  1  0\\nM  END\\n\",\"sdf\");\n\tviewer_173091711540627.setStyle({\"stick\": {}});\n\tviewer_173091711540627.addModel(\"\\n     RDKit          3D\\n\\n 20 20  0  0  0  0  0  0  0  0999 V2000\\n   -3.3522    2.0009   -0.8119 C   0  0  0  0  0  0  0  0  0  0  0  0\\n   -3.7782    1.5309    0.5696 C   0  0  0  0  0  0  0  0  0  0  0  0\\n   -4.3045    0.1546    0.5327 C   0  0  0  0  0  0  0  0  0  0  0  0\\n   -5.6362   -0.0971    0.6028 N   0  0  0  0  0  0  0  0  0  0  0  0\\n   -5.7877   -1.4710    0.5432 O   0  0  0  0  0  0  0  0  0  0  0  0\\n   -4.5629   -2.0282    0.4391 C   0  0  0  0  0  0  0  0  0  0  0  0\\n   -4.4735   -3.5045    0.3599 C   0  0  0  0  0  0  0  0  0  0  0  0\\n   -3.5997   -1.0548    0.4281 C   0  0  0  0  0  0  0  0  0  0  0  0\\n   -2.1982   -1.3134    0.3290 C   0  0  0  0  0  0  0  0  0  0  0  0\\n   -1.5224   -1.5899    1.3334 O   0  0  0  0  0  0  0  0  0  0  0  0\\n   -1.5632   -1.2592   -0.9037 O   0  0  0  0  0  0  0  0  0  0  0  0\\n   -4.0351    1.6204   -1.5915 H   0  0  0  0  0  0  0  0  0  0  0  0\\n   -3.2541    3.1067   -0.8189 H   0  0  0  0  0  0  0  0  0  0  0  0\\n   -2.3467    1.5391   -1.0256 H   0  0  0  0  0  0  0  0  0  0  0  0\\n   -4.4557    2.2206    1.0632 H   0  0  0  0  0  0  0  0  0  0  0  0\\n   -2.8357    1.5549    1.1927 H   0  0  0  0  0  0  0  0  0  0  0  0\\n   -5.2328   -4.0112    1.0148 H   0  0  0  0  0  0  0  0  0  0  0  0\\n   -4.4561   -3.8868   -0.6658 H   0  0  0  0  0  0  0  0  0  0  0  0\\n   -3.4865   -3.7704    0.8270 H   0  0  0  0  0  0  0  0  0  0  0  0\\n   -0.7681   -1.8449   -1.1333 H   0  0  0  0  0  0  0  0  0  0  0  0\\n  1  2  1  0\\n  2  3  1  0\\n  3  4  2  0\\n  4  5  1  0\\n  5  6  1  0\\n  6  7  1  0\\n  6  8  2  0\\n  3  8  1  0\\n  8  9  1  0\\n  9 10  2  0\\n  9 11  1  0\\n  1 12  1  0\\n  1 13  1  0\\n  1 14  1  0\\n  2 15  1  0\\n  2 16  1  0\\n  7 17  1  0\\n  7 18  1  0\\n  7 19  1  0\\n 11 20  1  0\\nM  END\\n\",\"sdf\");\n\tviewer_173091711540627.setStyle({\"stick\": {}});\n\tviewer_173091711540627.addModel(\"\\n     RDKit          3D\\n\\n 44 45  0  0  0  0  0  0  0  0999 V2000\\n    0.5372   -0.4432   -0.4339 C   0  0  0  0  0  0  0  0  0  0  0  0\\n   -0.3168   -1.5284   -1.0929 C   0  0  0  0  0  0  0  0  0  0  0  0\\n   -1.7193   -1.2270   -0.9313 O   0  0  0  0  0  0  0  0  0  0  0  0\\n   -2.1959   -1.3133    0.3398 C   0  0  0  0  0  0  0  0  0  0  0  0\\n   -1.5154   -1.5815    1.3301 O   0  0  0  0  0  0  0  0  0  0  0  0\\n   -3.6001   -1.0572    0.4306 C   0  0  0  0  0  0  0  0  0  0  0  0\\n    1.9720   -0.6955   -0.5602 N   0  0  0  0  0  0  0  0  0  0  0  0\\n    2.7099    0.3531    0.1565 C   0  0  2  0  0  0  0  0  0  0  0  0\\n    2.4623    1.7535   -0.4150 C   0  0  0  0  0  0  0  0  0  0  0  0\\n    4.2485    0.1716    0.0787 C   0  0  2  0  0  0  0  0  0  0  0  0\\n    3.6989    2.5143    0.0168 C   0  0  0  0  0  0  0  0  0  0  0  0\\n    4.8168   -0.2408    1.4341 C   0  0  0  0  0  0  0  0  0  0  0  0\\n    4.7945    1.5401   -0.3505 C   0  0  0  0  0  0  0  0  0  0  0  0\\n   -4.5588   -2.0358    0.4319 C   0  0  0  0  0  0  0  0  0  0  0  0\\n   -4.3080    0.1479    0.5307 C   0  0  0  0  0  0  0  0  0  0  0  0\\n   -5.7900   -1.4684    0.5458 O   0  0  0  0  0  0  0  0  0  0  0  0\\n   -4.4837   -3.5045    0.3561 C   0  0  0  0  0  0  0  0  0  0  0  0\\n   -3.7778    1.5311    0.5688 C   0  0  0  0  0  0  0  0  0  0  0  0\\n   -5.6352   -0.0949    0.6073 N   0  0  0  0  0  0  0  0  0  0  0  0\\n   -3.3506    2.0041   -0.8153 C   0  0  0  0  0  0  0  0  0  0  0  0\\n    0.3048   -0.3592    0.6300 H   0  0  0  0  0  0  0  0  0  0  0  0\\n    0.2589    0.5056   -0.8942 H   0  0  0  0  0  0  0  0  0  0  0  0\\n   -0.1218   -2.5294   -0.6938 H   0  0  0  0  0  0  0  0  0  0  0  0\\n   -0.1256   -1.5723   -2.1658 H   0  0  0  0  0  0  0  0  0  0  0  0\\n    2.2096   -1.5938   -0.1399 H   0  0  0  0  0  0  0  0  0  0  0  0\\n    2.4078    0.3673    1.2118 H   0  0  0  0  0  0  0  0  0  0  0  0\\n    1.5486    2.2005   -0.0220 H   0  0  0  0  0  0  0  0  0  0  0  0\\n    2.4041    1.7408   -1.5166 H   0  0  0  0  0  0  0  0  0  0  0  0\\n    4.5318   -0.5853   -0.6629 H   0  0  0  0  0  0  0  0  0  0  0  0\\n    3.7982    3.4765   -0.4981 H   0  0  0  0  0  0  0  0  0  0  0  0\\n    3.6886    2.6911    1.1056 H   0  0  0  0  0  0  0  0  0  0  0  0\\n    4.3534   -1.1719    1.7861 H   0  0  0  0  0  0  0  0  0  0  0  0\\n    4.6535    0.5350    2.1982 H   0  0  0  0  0  0  0  0  0  0  0  0\\n    5.9030   -0.4025    1.3540 H   0  0  0  0  0  0  0  0  0  0  0  0\\n    5.7471    1.8075    0.1261 H   0  0  0  0  0  0  0  0  0  0  0  0\\n    4.9382    1.5545   -1.4387 H   0  0  0  0  0  0  0  0  0  0  0  0\\n   -5.1148   -3.9716    1.1209 H   0  0  0  0  0  0  0  0  0  0  0  0\\n   -4.7925   -3.8507   -0.6323 H   0  0  0  0  0  0  0  0  0  0  0  0\\n   -3.4465   -3.8577    0.5185 H   0  0  0  0  0  0  0  0  0  0  0  0\\n   -4.5281    2.2190    0.9583 H   0  0  0  0  0  0  0  0  0  0  0  0\\n   -2.9060    1.5837    1.2406 H   0  0  0  0  0  0  0  0  0  0  0  0\\n   -3.2087    3.0877   -0.8016 H   0  0  0  0  0  0  0  0  0  0  0  0\\n   -4.1059    1.7483   -1.5625 H   0  0  0  0  0  0  0  0  0  0  0  0\\n   -2.3862    1.5517   -1.1054 H   0  0  0  0  0  0  0  0  0  0  0  0\\n  1  2  1  0\\n  2  3  1  0\\n  3  4  1  0\\n  4  5  2  0\\n  4  6  1  0\\n  7  1  1  0\\n  8  7  1  0\\n  9  8  1  0\\n 10  8  1  0\\n 11  9  1  0\\n 12 10  1  0\\n 10 13  1  0\\n 13 11  1  0\\n 14  6  2  0\\n 15  6  1  0\\n 16 14  1  0\\n 14 17  1  0\\n 18 15  1  0\\n 15 19  2  0\\n 19 16  1  0\\n 20 18  1  0\\n  1 21  1  0\\n  1 22  1  0\\n  2 23  1  0\\n  2 24  1  0\\n  7 25  1  0\\n  8 26  1  1\\n  9 27  1  0\\n  9 28  1  0\\n 10 29  1  6\\n 11 30  1  0\\n 11 31  1  0\\n 12 32  1  0\\n 12 33  1  0\\n 12 34  1  0\\n 13 35  1  0\\n 13 36  1  0\\n 17 37  1  0\\n 17 38  1  0\\n 17 39  1  0\\n 18 40  1  0\\n 18 41  1  0\\n 20 42  1  0\\n 20 43  1  0\\n 20 44  1  0\\nM  END\\n\",\"sdf\");\n\tviewer_173091711540627.setStyle({\"stick\": {}});\n\tviewer_173091711540627.setBackgroundColor(\"0xeeeeee\");\n\tviewer_173091711540627.zoomTo();\nviewer_173091711540627.render();\n});\n</script>",
      "text/html": [
       "<div id=\"3dmolviewer_173091711540627\"  style=\"position: relative; width: 400px; height: 400px;\">\n",
       "        <p id=\"3dmolwarning_173091711540627\" style=\"background-color:#ffcccc;color:black\">3Dmol.js failed to load for some reason.  Please check your browser console for error messages.<br></p>\n",
       "        </div>\n",
       "<script>\n",
       "\n",
       "var loadScriptAsync = function(uri){\n",
       "  return new Promise((resolve, reject) => {\n",
       "    //this is to ignore the existence of requirejs amd\n",
       "    var savedexports, savedmodule;\n",
       "    if (typeof exports !== 'undefined') savedexports = exports;\n",
       "    else exports = {}\n",
       "    if (typeof module !== 'undefined') savedmodule = module;\n",
       "    else module = {}\n",
       "\n",
       "    var tag = document.createElement('script');\n",
       "    tag.src = uri;\n",
       "    tag.async = true;\n",
       "    tag.onload = () => {\n",
       "        exports = savedexports;\n",
       "        module = savedmodule;\n",
       "        resolve();\n",
       "    };\n",
       "  var firstScriptTag = document.getElementsByTagName('script')[0];\n",
       "  firstScriptTag.parentNode.insertBefore(tag, firstScriptTag);\n",
       "});\n",
       "};\n",
       "\n",
       "if(typeof $3Dmolpromise === 'undefined') {\n",
       "$3Dmolpromise = null;\n",
       "  $3Dmolpromise = loadScriptAsync('https://cdnjs.cloudflare.com/ajax/libs/3Dmol/2.4.0/3Dmol-min.js');\n",
       "}\n",
       "\n",
       "var viewer_173091711540627 = null;\n",
       "var warn = document.getElementById(\"3dmolwarning_173091711540627\");\n",
       "if(warn) {\n",
       "    warn.parentNode.removeChild(warn);\n",
       "}\n",
       "$3Dmolpromise.then(function() {\n",
       "viewer_173091711540627 = $3Dmol.createViewer(document.getElementById(\"3dmolviewer_173091711540627\"),{backgroundColor:\"white\"});\n",
       "viewer_173091711540627.zoomTo();\n",
       "\tviewer_173091711540627.removeAllModels();\n",
       "\tviewer_173091711540627.addModel(\"\\n     RDKit          3D\\n\\n 27 27  0  0  0  0  0  0  0  0999 V2000\\n    4.8413   -0.3690    1.2878 C   0  0  0  0  0  0  0  0  0  0  0  0\\n    4.2438    0.2321    0.0761 C   0  0  2  0  0  0  0  0  0  0  0  0\\n    4.7042    1.6798    0.2532 C   0  0  0  0  0  0  0  0  0  0  0  0\\n    3.7665    2.3731   -0.5703 C   0  0  0  0  0  0  0  0  0  0  0  0\\n    2.4172    1.7789   -0.3069 C   0  0  0  0  0  0  0  0  0  0  0  0\\n    2.7237    0.3518    0.1439 C   0  0  1  0  0  0  0  0  0  0  0  0\\n    1.9841   -0.6684   -0.5946 N   0  0  0  0  0  0  0  0  0  0  0  0\\n    0.5517   -0.4800   -0.3657 C   0  0  0  0  0  0  0  0  0  0  0  0\\n   -0.3196   -1.4279   -1.1888 C   0  0  0  0  0  0  0  0  0  0  0  0\\n   -1.7091   -1.2727   -0.8324 O   0  0  0  0  0  0  0  0  0  0  0  0\\n    4.4459   -1.3949    1.4154 H   0  0  0  0  0  0  0  0  0  0  0  0\\n    4.6086    0.2167    2.1785 H   0  0  0  0  0  0  0  0  0  0  0  0\\n    5.9192   -0.4302    1.1457 H   0  0  0  0  0  0  0  0  0  0  0  0\\n    4.5973   -0.1460   -0.8753 H   0  0  0  0  0  0  0  0  0  0  0  0\\n    4.6452    2.0426    1.2859 H   0  0  0  0  0  0  0  0  0  0  0  0\\n    5.7505    1.7061   -0.0722 H   0  0  0  0  0  0  0  0  0  0  0  0\\n    3.7078    3.4597   -0.3546 H   0  0  0  0  0  0  0  0  0  0  0  0\\n    3.9976    2.2659   -1.6509 H   0  0  0  0  0  0  0  0  0  0  0  0\\n    1.8251    1.7489   -1.2413 H   0  0  0  0  0  0  0  0  0  0  0  0\\n    1.8654    2.3297    0.4806 H   0  0  0  0  0  0  0  0  0  0  0  0\\n    2.4168    0.2595    1.2038 H   0  0  0  0  0  0  0  0  0  0  0  0\\n    2.2293   -0.7210   -1.5946 H   0  0  0  0  0  0  0  0  0  0  0  0\\n    0.2229    0.5475   -0.5566 H   0  0  0  0  0  0  0  0  0  0  0  0\\n    0.3982   -0.7890    0.6999 H   0  0  0  0  0  0  0  0  0  0  0  0\\n   -0.2707   -1.0552   -2.2376 H   0  0  0  0  0  0  0  0  0  0  0  0\\n   -0.0154   -2.4734   -1.0759 H   0  0  0  0  0  0  0  0  0  0  0  0\\n   -2.0763   -2.1470   -0.5600 H   0  0  0  0  0  0  0  0  0  0  0  0\\n  1  2  1  0\\n  2  3  1  0\\n  3  4  1  0\\n  4  5  1  0\\n  5  6  1  0\\n  2  6  1  0\\n  6  7  1  0\\n  7  8  1  0\\n  8  9  1  0\\n  9 10  1  0\\n  1 11  1  0\\n  1 12  1  0\\n  1 13  1  0\\n  2 14  1  6\\n  3 15  1  0\\n  3 16  1  0\\n  4 17  1  0\\n  4 18  1  0\\n  5 19  1  0\\n  5 20  1  0\\n  6 21  1  1\\n  7 22  1  0\\n  8 23  1  0\\n  8 24  1  0\\n  9 25  1  0\\n  9 26  1  0\\n 10 27  1  0\\nM  END\\n\",\"sdf\");\n",
       "\tviewer_173091711540627.setStyle({\"stick\": {}});\n",
       "\tviewer_173091711540627.addModel(\"\\n     RDKit          3D\\n\\n 20 20  0  0  0  0  0  0  0  0999 V2000\\n   -3.3522    2.0009   -0.8119 C   0  0  0  0  0  0  0  0  0  0  0  0\\n   -3.7782    1.5309    0.5696 C   0  0  0  0  0  0  0  0  0  0  0  0\\n   -4.3045    0.1546    0.5327 C   0  0  0  0  0  0  0  0  0  0  0  0\\n   -5.6362   -0.0971    0.6028 N   0  0  0  0  0  0  0  0  0  0  0  0\\n   -5.7877   -1.4710    0.5432 O   0  0  0  0  0  0  0  0  0  0  0  0\\n   -4.5629   -2.0282    0.4391 C   0  0  0  0  0  0  0  0  0  0  0  0\\n   -4.4735   -3.5045    0.3599 C   0  0  0  0  0  0  0  0  0  0  0  0\\n   -3.5997   -1.0548    0.4281 C   0  0  0  0  0  0  0  0  0  0  0  0\\n   -2.1982   -1.3134    0.3290 C   0  0  0  0  0  0  0  0  0  0  0  0\\n   -1.5224   -1.5899    1.3334 O   0  0  0  0  0  0  0  0  0  0  0  0\\n   -1.5632   -1.2592   -0.9037 O   0  0  0  0  0  0  0  0  0  0  0  0\\n   -4.0351    1.6204   -1.5915 H   0  0  0  0  0  0  0  0  0  0  0  0\\n   -3.2541    3.1067   -0.8189 H   0  0  0  0  0  0  0  0  0  0  0  0\\n   -2.3467    1.5391   -1.0256 H   0  0  0  0  0  0  0  0  0  0  0  0\\n   -4.4557    2.2206    1.0632 H   0  0  0  0  0  0  0  0  0  0  0  0\\n   -2.8357    1.5549    1.1927 H   0  0  0  0  0  0  0  0  0  0  0  0\\n   -5.2328   -4.0112    1.0148 H   0  0  0  0  0  0  0  0  0  0  0  0\\n   -4.4561   -3.8868   -0.6658 H   0  0  0  0  0  0  0  0  0  0  0  0\\n   -3.4865   -3.7704    0.8270 H   0  0  0  0  0  0  0  0  0  0  0  0\\n   -0.7681   -1.8449   -1.1333 H   0  0  0  0  0  0  0  0  0  0  0  0\\n  1  2  1  0\\n  2  3  1  0\\n  3  4  2  0\\n  4  5  1  0\\n  5  6  1  0\\n  6  7  1  0\\n  6  8  2  0\\n  3  8  1  0\\n  8  9  1  0\\n  9 10  2  0\\n  9 11  1  0\\n  1 12  1  0\\n  1 13  1  0\\n  1 14  1  0\\n  2 15  1  0\\n  2 16  1  0\\n  7 17  1  0\\n  7 18  1  0\\n  7 19  1  0\\n 11 20  1  0\\nM  END\\n\",\"sdf\");\n",
       "\tviewer_173091711540627.setStyle({\"stick\": {}});\n",
       "\tviewer_173091711540627.addModel(\"\\n     RDKit          3D\\n\\n 44 45  0  0  0  0  0  0  0  0999 V2000\\n    0.5372   -0.4432   -0.4339 C   0  0  0  0  0  0  0  0  0  0  0  0\\n   -0.3168   -1.5284   -1.0929 C   0  0  0  0  0  0  0  0  0  0  0  0\\n   -1.7193   -1.2270   -0.9313 O   0  0  0  0  0  0  0  0  0  0  0  0\\n   -2.1959   -1.3133    0.3398 C   0  0  0  0  0  0  0  0  0  0  0  0\\n   -1.5154   -1.5815    1.3301 O   0  0  0  0  0  0  0  0  0  0  0  0\\n   -3.6001   -1.0572    0.4306 C   0  0  0  0  0  0  0  0  0  0  0  0\\n    1.9720   -0.6955   -0.5602 N   0  0  0  0  0  0  0  0  0  0  0  0\\n    2.7099    0.3531    0.1565 C   0  0  2  0  0  0  0  0  0  0  0  0\\n    2.4623    1.7535   -0.4150 C   0  0  0  0  0  0  0  0  0  0  0  0\\n    4.2485    0.1716    0.0787 C   0  0  2  0  0  0  0  0  0  0  0  0\\n    3.6989    2.5143    0.0168 C   0  0  0  0  0  0  0  0  0  0  0  0\\n    4.8168   -0.2408    1.4341 C   0  0  0  0  0  0  0  0  0  0  0  0\\n    4.7945    1.5401   -0.3505 C   0  0  0  0  0  0  0  0  0  0  0  0\\n   -4.5588   -2.0358    0.4319 C   0  0  0  0  0  0  0  0  0  0  0  0\\n   -4.3080    0.1479    0.5307 C   0  0  0  0  0  0  0  0  0  0  0  0\\n   -5.7900   -1.4684    0.5458 O   0  0  0  0  0  0  0  0  0  0  0  0\\n   -4.4837   -3.5045    0.3561 C   0  0  0  0  0  0  0  0  0  0  0  0\\n   -3.7778    1.5311    0.5688 C   0  0  0  0  0  0  0  0  0  0  0  0\\n   -5.6352   -0.0949    0.6073 N   0  0  0  0  0  0  0  0  0  0  0  0\\n   -3.3506    2.0041   -0.8153 C   0  0  0  0  0  0  0  0  0  0  0  0\\n    0.3048   -0.3592    0.6300 H   0  0  0  0  0  0  0  0  0  0  0  0\\n    0.2589    0.5056   -0.8942 H   0  0  0  0  0  0  0  0  0  0  0  0\\n   -0.1218   -2.5294   -0.6938 H   0  0  0  0  0  0  0  0  0  0  0  0\\n   -0.1256   -1.5723   -2.1658 H   0  0  0  0  0  0  0  0  0  0  0  0\\n    2.2096   -1.5938   -0.1399 H   0  0  0  0  0  0  0  0  0  0  0  0\\n    2.4078    0.3673    1.2118 H   0  0  0  0  0  0  0  0  0  0  0  0\\n    1.5486    2.2005   -0.0220 H   0  0  0  0  0  0  0  0  0  0  0  0\\n    2.4041    1.7408   -1.5166 H   0  0  0  0  0  0  0  0  0  0  0  0\\n    4.5318   -0.5853   -0.6629 H   0  0  0  0  0  0  0  0  0  0  0  0\\n    3.7982    3.4765   -0.4981 H   0  0  0  0  0  0  0  0  0  0  0  0\\n    3.6886    2.6911    1.1056 H   0  0  0  0  0  0  0  0  0  0  0  0\\n    4.3534   -1.1719    1.7861 H   0  0  0  0  0  0  0  0  0  0  0  0\\n    4.6535    0.5350    2.1982 H   0  0  0  0  0  0  0  0  0  0  0  0\\n    5.9030   -0.4025    1.3540 H   0  0  0  0  0  0  0  0  0  0  0  0\\n    5.7471    1.8075    0.1261 H   0  0  0  0  0  0  0  0  0  0  0  0\\n    4.9382    1.5545   -1.4387 H   0  0  0  0  0  0  0  0  0  0  0  0\\n   -5.1148   -3.9716    1.1209 H   0  0  0  0  0  0  0  0  0  0  0  0\\n   -4.7925   -3.8507   -0.6323 H   0  0  0  0  0  0  0  0  0  0  0  0\\n   -3.4465   -3.8577    0.5185 H   0  0  0  0  0  0  0  0  0  0  0  0\\n   -4.5281    2.2190    0.9583 H   0  0  0  0  0  0  0  0  0  0  0  0\\n   -2.9060    1.5837    1.2406 H   0  0  0  0  0  0  0  0  0  0  0  0\\n   -3.2087    3.0877   -0.8016 H   0  0  0  0  0  0  0  0  0  0  0  0\\n   -4.1059    1.7483   -1.5625 H   0  0  0  0  0  0  0  0  0  0  0  0\\n   -2.3862    1.5517   -1.1054 H   0  0  0  0  0  0  0  0  0  0  0  0\\n  1  2  1  0\\n  2  3  1  0\\n  3  4  1  0\\n  4  5  2  0\\n  4  6  1  0\\n  7  1  1  0\\n  8  7  1  0\\n  9  8  1  0\\n 10  8  1  0\\n 11  9  1  0\\n 12 10  1  0\\n 10 13  1  0\\n 13 11  1  0\\n 14  6  2  0\\n 15  6  1  0\\n 16 14  1  0\\n 14 17  1  0\\n 18 15  1  0\\n 15 19  2  0\\n 19 16  1  0\\n 20 18  1  0\\n  1 21  1  0\\n  1 22  1  0\\n  2 23  1  0\\n  2 24  1  0\\n  7 25  1  0\\n  8 26  1  1\\n  9 27  1  0\\n  9 28  1  0\\n 10 29  1  6\\n 11 30  1  0\\n 11 31  1  0\\n 12 32  1  0\\n 12 33  1  0\\n 12 34  1  0\\n 13 35  1  0\\n 13 36  1  0\\n 17 37  1  0\\n 17 38  1  0\\n 17 39  1  0\\n 18 40  1  0\\n 18 41  1  0\\n 20 42  1  0\\n 20 43  1  0\\n 20 44  1  0\\nM  END\\n\",\"sdf\");\n",
       "\tviewer_173091711540627.setStyle({\"stick\": {}});\n",
       "\tviewer_173091711540627.setBackgroundColor(\"0xeeeeee\");\n",
       "\tviewer_173091711540627.zoomTo();\n",
       "viewer_173091711540627.render();\n",
       "});\n",
       "</script>"
      ]
     },
     "metadata": {},
     "output_type": "display_data"
    }
   ],
   "source": [
    "rxn_idx = 1\n",
    "\n",
    "result = crbbd.sample_rxnresult(crbbd.rxnids[rxn_idx])\n",
    "IPythonConsole.drawMol3D(result[0]+[result[1]])"
   ]
  },
  {
   "cell_type": "code",
   "execution_count": 4,
   "metadata": {},
   "outputs": [
    {
     "data": {
      "text/plain": [
       "CRBBOutput(lig0_feats=(Data(x=[15, 6], edge_index=[2, 30], y=[1, 12]), Data(y=[1, 11], pos=[15, 3])), rsfeats_2d=[Data(x=[15, 6], edge_index=[2, 30], y=[1, 12]), Data(x=[21, 6], edge_index=[2, 42], y=[1, 12])], rsfeats_3d=[Data(y=[1, 11], pos=[15, 3]), Data(y=[1, 11], pos=[21, 3])], rslengths=2, terminate=tensor([ True, False]), pfeats=(Data(x=[30, 6], edge_index=[2, 64], y=[1, 12]), Data(y=[1, 11], pos=[30, 3])), rxnfeats=tensor([0, 0, 0,  ..., 0, 0, 0]))"
      ]
     },
     "execution_count": 4,
     "metadata": {},
     "output_type": "execute_result"
    }
   ],
   "source": [
    "crbbd[0]"
   ]
  },
  {
   "cell_type": "code",
   "execution_count": null,
   "metadata": {},
   "outputs": [
    {
     "name": "stderr",
     "output_type": "stream",
     "text": [
      "GPU available: True (cuda), used: True\n",
      "TPU available: False, using: 0 TPU cores\n",
      "HPU available: False, using: 0 HPUs\n",
      "LOCAL_RANK: 0 - CUDA_VISIBLE_DEVICES: [0]\n",
      "\n",
      "  | Name    | Type                  | Params | Mode \n",
      "----------------------------------------------------------\n",
      "0 | RXNVE   | RXNVariationalEncoder | 10.4 K | train\n",
      "1 | PENC    | ProductEncoder        | 1.1 K  | train\n",
      "2 | RENC    | ReactantEncoder       | 1.1 K  | train\n",
      "3 | RDEC    | ReactantDecoder       | 2.3 K  | train\n",
      "4 | RSX2RSY | Linear                | 132    | train\n",
      "5 | loss_fn | MSELoss               | 0      | train\n",
      "----------------------------------------------------------\n",
      "14.9 K    Trainable params\n",
      "4         Non-trainable params\n",
      "14.9 K    Total params\n",
      "0.060     Total estimated model params size (MB)\n",
      "97        Modules in train mode\n",
      "0         Modules in eval mode\n"
     ]
    },
    {
     "data": {
      "application/vnd.jupyter.widget-view+json": {
       "model_id": "277db55243e34a60bcd32cf1e1a47a13",
       "version_major": 2,
       "version_minor": 0
      },
      "text/plain": [
       "Training: |          | 0/? [00:00<?, ?it/s]"
      ]
     },
     "metadata": {},
     "output_type": "display_data"
    },
    {
     "name": "stderr",
     "output_type": "stream",
     "text": [
      "`Trainer.fit` stopped: `max_epochs=10` reached.\n"
     ]
    }
   ],
   "source": [
    "import torch\n",
    "import torch.nn as nn\n",
    "import torch.nn.functional as F\n",
    "from torch.utils.data import DataLoader\n",
    "from torch.nn.utils import rnn\n",
    "\n",
    "import torch_geometric as pyg\n",
    "import torch_geometric.nn as pygnn\n",
    "from torch_geometric.data import Data, Batch\n",
    "\n",
    "import lightning as L\n",
    "\n",
    "from src.data.dataset.crbbdataset import CRBBOutput\n",
    "\n",
    "from typing import List\n",
    "\n",
    "class RXNVariationalEncoder(nn.Module):\n",
    "    def __init__(self, input_dim: int, hidden_dim: int, encode_dim: int):\n",
    "        super().__init__()\n",
    "\n",
    "        self.R_enc = nn.Sequential(\n",
    "            nn.Linear(input_dim, hidden_dim),\n",
    "            nn.ReLU(),\n",
    "            nn.Linear(hidden_dim, encode_dim)\n",
    "        )\n",
    "\n",
    "        self.R_mu = nn.Linear(encode_dim, encode_dim)\n",
    "        self.R_logvar = nn.Linear(encode_dim, encode_dim)\n",
    "\n",
    "        self.dummy = nn.Parameter(torch.zeros(1), requires_grad=False)\n",
    "\n",
    "    def forward(self, batch: CRBBOutput):\n",
    "        Rx = batch.rxnfeats.type(self.dummy.dtype)\n",
    "        Rx = self.R_enc(Rx)\n",
    "        return Rx\n",
    "\n",
    "    def encode(self, Rx):\n",
    "        return self.R_enc(Rx)\n",
    "    \n",
    "    def reparameterize(self, Rx):\n",
    "        mu = self.R_mu(Rx)\n",
    "        logvar = self.R_logvar(Rx)\n",
    "        std = torch.exp(0.5 * logvar)\n",
    "        eps = torch.randn_like(std)\n",
    "        return mu + eps * std, mu, logvar\n",
    "    \n",
    "class ProductVariationalEncoder(nn.Module):\n",
    "    def __init__(self, input_dim: int, hidden_dim: int, encode_dim: int):\n",
    "        super().__init__()\n",
    "\n",
    "        self.pg_enc = pygnn.GIN(input_dim, hidden_dim, 3, hidden_dim)\n",
    "        self.px_enc = nn.Sequential(\n",
    "            nn.Linear(hidden_dim, hidden_dim),\n",
    "            nn.ReLU(),\n",
    "            nn.Linear(hidden_dim, hidden_dim),\n",
    "            nn.ReLU(),\n",
    "            nn.Linear(hidden_dim, hidden_dim),\n",
    "            nn.ReLU(),\n",
    "            nn.Linear(hidden_dim, encode_dim),\n",
    "        )\n",
    "\n",
    "        self.p_mu = nn.Linear(encode_dim, encode_dim)\n",
    "        self.p_logvar = nn.Linear(encode_dim, encode_dim)\n",
    "\n",
    "        self.dummy = nn.Parameter(torch.zeros(1), requires_grad=False)\n",
    "    \n",
    "    def forward(self, batch: CRBBOutput):\n",
    "        pg = batch.pfeats[0]\n",
    "        px = self.encode(pg)\n",
    "        return px\n",
    "\n",
    "    def encode(self, pg: Data):\n",
    "        px = self.pg_enc.forward(pg.x.type(self.dummy.dtype), \n",
    "                                 pg.edge_index)\n",
    "        px = pygnn.global_add_pool(px, pg.batch)\n",
    "        px = self.px_enc(px)\n",
    "        return px\n",
    "    \n",
    "    def reparameterize(self, px):\n",
    "        mu = self.p_mu(px)\n",
    "        logvar = self.p_logvar(px)\n",
    "        std = torch.exp(0.5 * logvar)\n",
    "        eps = torch.randn_like(std)\n",
    "        return mu + eps * std, mu, logvar\n",
    "\n",
    "class ReactantEncoder(nn.Module):\n",
    "    def __init__(self, input_dim: int, hidden_dim: int, encode_dim: int,\n",
    "                 max_seqlen: int = 5):\n",
    "        super().__init__()\n",
    "\n",
    "        self.rg_enc = pygnn.GIN(input_dim, hidden_dim, 3, hidden_dim)\n",
    "        self.rx_enc = nn.Sequential(\n",
    "            nn.Linear(hidden_dim, hidden_dim),\n",
    "            nn.ReLU(),\n",
    "            nn.Linear(hidden_dim, hidden_dim),\n",
    "            nn.ReLU(),\n",
    "            nn.Linear(hidden_dim, hidden_dim),\n",
    "            nn.ReLU(),\n",
    "            nn.Linear(hidden_dim, encode_dim),\n",
    "        )\n",
    "\n",
    "        self.dummy = nn.Parameter(torch.zeros(1), requires_grad=False)\n",
    "\n",
    "        self.max_seqlen = max_seqlen\n",
    "    \n",
    "    def forward(self, batch: CRBBOutput):\n",
    "        rg: Data = Batch.from_data_list(batch.rsfeats_2d)\n",
    "        rx = self.encode(rg.x, rg.edge_index, rg.batch)\n",
    "        return rx\n",
    "\n",
    "    def encode(self, rx, edge_index, batch):\n",
    "        rx = self.rg_enc.forward(rx.type(self.dummy.dtype), \n",
    "                                 edge_index)\n",
    "        rx = pygnn.global_add_pool(rx, batch)\n",
    "        rx = self.rx_enc(rx)\n",
    "        return rx\n",
    "    \n",
    "class ReactantDecoder(nn.Module):\n",
    "    def __init__(self, input_dim: int, hidden_dim: int, output_dim: int,\n",
    "                 max_seqlen: int = 5):\n",
    "        super().__init__()\n",
    "        \n",
    "        self.lin1 = nn.Linear(input_dim, hidden_dim)\n",
    "        self.enc2seq = nn.LSTM(hidden_dim, hidden_dim)\n",
    "        self.lin2 = nn.Linear(hidden_dim, output_dim)\n",
    "\n",
    "        self.dummy = nn.Parameter(torch.zeros(1), requires_grad=False)\n",
    "\n",
    "        self.max_seqlen = max_seqlen\n",
    "    \n",
    "    def forward(self, enc: torch.Tensor):\n",
    "        return self.decode(enc)\n",
    "\n",
    "    def decode(self, enc: torch.Tensor):\n",
    "        out = []\n",
    "        hidden = self.lin1(enc)\n",
    "        mem = None\n",
    "        for i in range(self.max_seqlen):\n",
    "            hidden, mem = self.enc2seq(hidden, mem)\n",
    "            dec = self.lin2(enc)\n",
    "            out.append(dec)\n",
    "        \n",
    "        return torch.stack(out, dim=1)        \n",
    "\n",
    "class PrimaryModule(L.LightningModule):\n",
    "    def __init__(self, dataset: CRBBDataset = crbbd):\n",
    "        super().__init__()\n",
    "        self.maxseqlen = dataset.maxseqlen\n",
    "        self.dataset = dataset\n",
    "\n",
    "        self.RXNVE = RXNVariationalEncoder(dataset.rxnfeats.shape[1], 10, 5)\n",
    "        self.PVENC = ProductVariationalEncoder(dataset.bbfeats[0].x.shape[1], 10, 10)\n",
    "        self.RENC = ReactantEncoder(dataset.bbfeats[0].x.shape[1], 10, 10)\n",
    "        self.RDEC = ReactantDecoder(15, 15, 10, self.maxseqlen)\n",
    "        self.RSX2RSY = torch.nn.Linear(10, dataset.bbfeats[0].y.shape[1])\n",
    "        self.loss_fn = nn.MSELoss()\n",
    "\n",
    "    def encode_rxn(self, batch: CRBBOutput):\n",
    "        Rh = self.RXNVE.forward(batch)\n",
    "        Rz, Rmu, Rlv = self.RXNVE.reparameterize(Rh)\n",
    "        return Rh, Rz, Rmu, Rlv\n",
    "    \n",
    "    def encode_product(self, batch: CRBBOutput):\n",
    "        ph = self.PVENC.forward(batch)\n",
    "        pz, pmu, plv = self.PVENC.reparameterize(ph)\n",
    "        return ph, pz, pmu, plv\n",
    "    \n",
    "    def encode_reactants(self, batch: CRBBOutput):\n",
    "        rh = self.RENC.forward(batch)\n",
    "        return rh\n",
    "    \n",
    "    def get_reactants_mask(self, batch: CRBBOutput):\n",
    "        lengths = batch.rslengths\n",
    "        mask = torch.arange(self.maxseqlen, device=self.device).expand(\n",
    "            len(lengths), self.maxseqlen) < lengths.unsqueeze(1)\n",
    "        return mask\n",
    "    \n",
    "    def training_step(self, batch: CRBBOutput, batch_idx):\n",
    "\n",
    "        # Encode reaction\n",
    "        Rh, Rz, Rmu, Rlv = self.encode_rxn(batch)\n",
    "\n",
    "        # Encode product\n",
    "        ph, pz, pmu, plv = self.encode_product(batch)\n",
    "\n",
    "        # Encode reactants\n",
    "        rh = self.encode_reactants(batch)\n",
    "\n",
    "        # True reactants\n",
    "        rsg: Data = Batch.from_data_list(batch.rsfeats_2d)\n",
    "        rsy = rsg.y.type(self.dtype)\n",
    "        lengths = batch.rslengths\n",
    "        mask = torch.arange(self.maxseqlen, device=self.device).expand(\n",
    "            len(lengths), self.maxseqlen) < lengths.unsqueeze(1)\n",
    "        rsy = rsy[mask.T.flatten()]\n",
    "        rsx = self.RENC.encode(rsg.x.type(self.dtype),\n",
    "                               rsg.edge_index, rsg.batch)\n",
    "        rsx = rsx[mask.T.flatten()]\n",
    "\n",
    "        # Decode combo of reaction and product to reactants\n",
    "        rsx_pred= self.RDEC.decode(torch.cat((Rh, ph), dim=1)) # (m, k, n), k=maxlen\n",
    "        rsx_pred = rsx_pred[mask]\n",
    "        \n",
    "        recon_loss1 = self.loss_fn(self.RSX2RSY(rsx), rsy)\n",
    "        recon_loss2 = self.loss_fn(rsx_pred, rsx)\n",
    "        self.log('train_recon_loss1', recon_loss1, prog_bar=True)\n",
    "        self.log('train_recon_loss2', recon_loss2, prog_bar=True)\n",
    "\n",
    "        self.log('rsxpred_norm', rsx_pred.norm(dim=1).mean(), prog_bar=True)\n",
    "\n",
    "        kld_loss = -0.5 * torch.sum(1 + Rlv - Rmu.pow(2) - Rlv.exp())\n",
    "        self.log('train_kl_loss', kld_loss, prog_bar=True)\n",
    "        \n",
    "        return recon_loss1 + recon_loss2 + kld_loss\n",
    "\n",
    "    def configure_optimizers(self):\n",
    "        return torch.optim.Adam(self.parameters(), lr=5e-3)\n",
    "\n",
    "model = PrimaryModule(crbbd).float()\n",
    "trainer = L.Trainer(max_epochs=10)\n",
    "trainer.fit(model, DataLoader(crbbd, batch_size=16, num_workers=8, \n",
    "                                collate_fn=CRBBOutput.collate_fn))"
   ]
  },
  {
   "cell_type": "code",
   "execution_count": 21,
   "metadata": {},
   "outputs": [],
   "source": [
    "ps = []\n",
    "rsxs = []\n",
    "rss = []\n",
    "model.eval()\n",
    "for i in range(100):\n",
    "    rs, p = crbbd.sample_rxnresult(1)\n",
    "    rsfeats = crbbd.bbfeaturizer.featurize([rs[0]], progbar=False)[0]\n",
    "    rsx = model.RENC.encode(rsfeats.x, rsfeats.edge_index, rsfeats.batch)\n",
    "    ps.append(p)\n",
    "    rsxs.append(rsx)\n",
    "    rss.append(rs)\n",
    "rsxs = torch.cat(rsxs, dim=0)"
   ]
  },
  {
   "cell_type": "code",
   "execution_count": 22,
   "metadata": {},
   "outputs": [
    {
     "data": {
      "text/plain": [
       "<Axes: >"
      ]
     },
     "execution_count": 22,
     "metadata": {},
     "output_type": "execute_result"
    },
    {
     "data": {
      "image/png": "[encoded data removed]",
      "text/plain": [
       "<Figure size 640x480 with 1 Axes>"
      ]
     },
     "metadata": {},
     "output_type": "display_data"
    }
   ],
   "source": [
    "import seaborn as sns\n",
    "from sklearn.decomposition import PCA\n",
    "\n",
    "pca = PCA(n_components=2)\n",
    "pcs = pca.fit_transform(rsxs.detach().numpy())\n",
    "\n",
    "sns.scatterplot(x=pcs[:, 0], y=pcs[:, 1])"
   ]
  },
  {
   "cell_type": "code",
   "execution_count": 23,
   "metadata": {},
   "outputs": [
    {
     "data": {
      "text/plain": [
       "array([[30,  8, 56,  6]])"
      ]
     },
     "execution_count": 23,
     "metadata": {},
     "output_type": "execute_result"
    }
   ],
   "source": [
    "from sklearn.neighbors import NearestNeighbors\n",
    "\n",
    "knn = NearestNeighbors(n_neighbors=4).fit(rsxs.detach().numpy())\n",
    "knn.kneighbors(rsxs[30].detach().reshape(1, -1), return_distance=False)"
   ]
  },
  {
   "cell_type": "code",
   "execution_count": 24,
   "metadata": {},
   "outputs": [
    {
     "data": {
      "application/3dmoljs_load.v0": "<div id=\"3dmolviewer_17309190127336798\"  style=\"position: relative; width: 400px; height: 400px;\">\n        <p id=\"3dmolwarning_17309190127336798\" style=\"background-color:#ffcccc;color:black\">3Dmol.js failed to load for some reason.  Please check your browser console for error messages.<br></p>\n        </div>\n<script>\n\nvar loadScriptAsync = function(uri){\n  return new Promise((resolve, reject) => {\n    //this is to ignore the existence of requirejs amd\n    var savedexports, savedmodule;\n    if (typeof exports !== 'undefined') savedexports = exports;\n    else exports = {}\n    if (typeof module !== 'undefined') savedmodule = module;\n    else module = {}\n\n    var tag = document.createElement('script');\n    tag.src = uri;\n    tag.async = true;\n    tag.onload = () => {\n        exports = savedexports;\n        module = savedmodule;\n        resolve();\n    };\n  var firstScriptTag = document.getElementsByTagName('script')[0];\n  firstScriptTag.parentNode.insertBefore(tag, firstScriptTag);\n});\n};\n\nif(typeof $3Dmolpromise === 'undefined') {\n$3Dmolpromise = null;\n  $3Dmolpromise = loadScriptAsync('https://cdnjs.cloudflare.com/ajax/libs/3Dmol/2.4.0/3Dmol-min.js');\n}\n\nvar viewer_17309190127336798 = null;\nvar warn = document.getElementById(\"3dmolwarning_17309190127336798\");\nif(warn) {\n    warn.parentNode.removeChild(warn);\n}\n$3Dmolpromise.then(function() {\nviewer_17309190127336798 = $3Dmol.createViewer(document.getElementById(\"3dmolviewer_17309190127336798\"),{backgroundColor:\"white\"});\nviewer_17309190127336798.zoomTo();\n\tviewer_17309190127336798.removeAllModels();\n\tviewer_17309190127336798.addModel(\"\\n     RDKit          3D\\n\\n 32 33  0  0  0  0  0  0  0  0999 V2000\\n    3.2325    1.3139    2.4067 C   0  0  0  0  0  0  0  0  0  0  0  0\\n    2.7865    0.2407    1.4537 C   0  0  0  0  0  0  0  0  0  0  0  0\\n    1.4793   -0.2638    1.5213 C   0  0  0  0  0  0  0  0  0  0  0  0\\n    1.0002   -1.2531    0.6531 C   0  0  0  0  0  0  0  0  0  0  0  0\\n   -0.3842   -1.7798    0.7709 C   0  0  0  0  0  0  0  0  0  0  0  0\\n   -1.3640   -0.9405    0.2054 O   0  0  0  0  0  0  0  0  0  0  0  0\\n    1.8767   -1.7538   -0.3259 C   0  0  0  0  0  0  0  0  0  0  0  0\\n    3.1795   -1.2570   -0.3991 C   0  0  0  0  0  0  0  0  0  0  0  0\\n    3.6599   -0.2805    0.4569 C   0  0  0  0  0  0  0  0  0  0  0  0\\n    4.9616    0.1488    0.3397 N   0  0  0  0  0  0  0  0  0  0  0  0\\n    5.8933    0.0344    1.4707 C   0  0  0  0  0  0  0  0  0  0  0  0\\n    7.2133   -0.5311    0.9663 C   0  0  0  0  0  0  0  0  0  0  0  0\\n    7.7670    0.2841   -0.0718 O   0  0  0  0  0  0  0  0  0  0  0  0\\n    6.8931    0.3173   -1.1974 C   0  0  0  0  0  0  0  0  0  0  0  0\\n    5.4677    0.7577   -0.8627 C   0  0  0  0  0  0  0  0  0  0  0  0\\n    3.9349    1.9500    1.7937 H   0  0  0  0  0  0  0  0  0  0  0  0\\n    2.3729    2.0197    2.5877 H   0  0  0  0  0  0  0  0  0  0  0  0\\n    3.6849    0.9191    3.3161 H   0  0  0  0  0  0  0  0  0  0  0  0\\n    0.8246    0.1522    2.2974 H   0  0  0  0  0  0  0  0  0  0  0  0\\n   -0.5583   -1.8689    1.8831 H   0  0  0  0  0  0  0  0  0  0  0  0\\n   -0.3984   -2.7791    0.2896 H   0  0  0  0  0  0  0  0  0  0  0  0\\n   -2.2204   -1.2439    0.5768 H   0  0  0  0  0  0  0  0  0  0  0  0\\n    1.5498   -2.5132   -1.0145 H   0  0  0  0  0  0  0  0  0  0  0  0\\n    3.8137   -1.6678   -1.1613 H   0  0  0  0  0  0  0  0  0  0  0  0\\n    5.5407   -0.6780    2.2131 H   0  0  0  0  0  0  0  0  0  0  0  0\\n    6.1525    1.0297    1.8923 H   0  0  0  0  0  0  0  0  0  0  0  0\\n    6.9756   -1.5341    0.5593 H   0  0  0  0  0  0  0  0  0  0  0  0\\n    7.9818   -0.5288    1.7330 H   0  0  0  0  0  0  0  0  0  0  0  0\\n    6.8987   -0.6549   -1.7181 H   0  0  0  0  0  0  0  0  0  0  0  0\\n    7.3071    1.1003   -1.8353 H   0  0  0  0  0  0  0  0  0  0  0  0\\n    5.4069    1.8693   -0.8290 H   0  0  0  0  0  0  0  0  0  0  0  0\\n    4.8595    0.3723   -1.6942 H   0  0  0  0  0  0  0  0  0  0  0  0\\n  1  2  1  0\\n  2  3  2  0\\n  3  4  1  0\\n  4  5  1  0\\n  5  6  1  0\\n  4  7  2  0\\n  7  8  1  0\\n  8  9  2  0\\n  2  9  1  0\\n  9 10  1  0\\n 10 11  1  0\\n 11 12  1  0\\n 12 13  1  0\\n 13 14  1  0\\n 14 15  1  0\\n 10 15  1  0\\n  1 16  1  0\\n  1 17  1  0\\n  1 18  1  0\\n  3 19  1  0\\n  5 20  1  0\\n  5 21  1  0\\n  6 22  1  0\\n  7 23  1  0\\n  8 24  1  0\\n 11 25  1  0\\n 11 26  1  0\\n 12 27  1  0\\n 12 28  1  0\\n 14 29  1  0\\n 14 30  1  0\\n 15 31  1  0\\n 15 32  1  0\\nM  END\\n\",\"sdf\");\n\tviewer_17309190127336798.setStyle({\"stick\": {}});\n\tviewer_17309190127336798.addModel(\"\\n     RDKit          3D\\n\\n 26 27  0  0  0  0  0  0  0  0999 V2000\\n   -0.2122    0.0598   -2.4849 O   0  0  0  0  0  0  0  0  0  0  0  0\\n   -1.2311   -0.6855   -1.6905 C   0  0  0  0  0  0  0  0  0  0  0  0\\n   -0.7054   -1.6459   -1.1674 O   0  0  0  0  0  0  0  0  0  0  0  0\\n   -2.5039   -0.0698   -1.7644 C   0  0  1  0  0  0  0  0  0  0  0  0\\n   -3.8237   -0.6842   -1.4215 C   0  0  0  0  0  0  0  0  0  0  0  0\\n   -4.7041    0.4633   -1.4490 N   0  0  0  0  0  0  0  0  0  0  0  0\\n   -6.1167    0.3825   -1.7570 C   0  0  0  0  0  0  0  0  0  0  0  0\\n   -6.9044    0.1698   -0.5428 C   0  0  0  0  0  0  0  0  0  0  0  0\\n   -7.5017    1.0192    0.3816 C   0  0  0  0  0  0  0  0  0  0  0  0\\n   -8.1328    0.1977    1.3380 C   0  0  0  0  0  0  0  0  0  0  0  0\\n   -7.8965   -1.0901    0.9629 C   0  0  0  0  0  0  0  0  0  0  0  0\\n   -7.1473   -1.1180   -0.1834 O   0  0  0  0  0  0  0  0  0  0  0  0\\n   -4.0516    1.6434   -1.1120 C   0  0  0  0  0  0  0  0  0  0  0  0\\n   -4.5684    2.7290   -0.9185 O   0  0  0  0  0  0  0  0  0  0  0  0\\n   -2.5872    1.3213   -1.0311 C   0  0  0  0  0  0  0  0  0  0  0  0\\n    0.6929    0.1678   -2.0531 H   0  0  0  0  0  0  0  0  0  0  0  0\\n   -2.7318    0.2704   -2.8119 H   0  0  0  0  0  0  0  0  0  0  0  0\\n   -3.8234   -1.0411   -0.3721 H   0  0  0  0  0  0  0  0  0  0  0  0\\n   -4.1425   -1.4623   -2.1373 H   0  0  0  0  0  0  0  0  0  0  0  0\\n   -6.4507    1.3592   -2.1958 H   0  0  0  0  0  0  0  0  0  0  0  0\\n   -6.2821   -0.3558   -2.5419 H   0  0  0  0  0  0  0  0  0  0  0  0\\n   -7.4508    2.0693    0.3164 H   0  0  0  0  0  0  0  0  0  0  0  0\\n   -8.6809    0.5323    2.1796 H   0  0  0  0  0  0  0  0  0  0  0  0\\n   -8.2000   -2.0239    1.4172 H   0  0  0  0  0  0  0  0  0  0  0  0\\n   -2.2570    1.1956    0.0013 H   0  0  0  0  0  0  0  0  0  0  0  0\\n   -2.0110    2.0682   -1.5889 H   0  0  0  0  0  0  0  0  0  0  0  0\\n  1  2  1  0\\n  2  3  2  0\\n  2  4  1  0\\n  4  5  1  0\\n  5  6  1  0\\n  6  7  1  0\\n  7  8  1  0\\n  8  9  2  0\\n  9 10  1  0\\n 10 11  2  0\\n 11 12  1  0\\n  8 12  1  0\\n  6 13  1  0\\n 13 14  2  0\\n 13 15  1  0\\n  4 15  1  0\\n  1 16  1  0\\n  4 17  1  6\\n  5 18  1  0\\n  5 19  1  0\\n  7 20  1  0\\n  7 21  1  0\\n  9 22  1  0\\n 10 23  1  0\\n 11 24  1  0\\n 15 25  1  0\\n 15 26  1  0\\nM  END\\n\",\"sdf\");\n\tviewer_17309190127336798.setStyle({\"stick\": {}});\n\tviewer_17309190127336798.setBackgroundColor(\"0xeeeeee\");\n\tviewer_17309190127336798.zoomTo();\nviewer_17309190127336798.render();\n});\n</script>",
      "text/html": [
       "<div id=\"3dmolviewer_17309190127336798\"  style=\"position: relative; width: 400px; height: 400px;\">\n",
       "        <p id=\"3dmolwarning_17309190127336798\" style=\"background-color:#ffcccc;color:black\">3Dmol.js failed to load for some reason.  Please check your browser console for error messages.<br></p>\n",
       "        </div>\n",
       "<script>\n",
       "\n",
       "var loadScriptAsync = function(uri){\n",
       "  return new Promise((resolve, reject) => {\n",
       "    //this is to ignore the existence of requirejs amd\n",
       "    var savedexports, savedmodule;\n",
       "    if (typeof exports !== 'undefined') savedexports = exports;\n",
       "    else exports = {}\n",
       "    if (typeof module !== 'undefined') savedmodule = module;\n",
       "    else module = {}\n",
       "\n",
       "    var tag = document.createElement('script');\n",
       "    tag.src = uri;\n",
       "    tag.async = true;\n",
       "    tag.onload = () => {\n",
       "        exports = savedexports;\n",
       "        module = savedmodule;\n",
       "        resolve();\n",
       "    };\n",
       "  var firstScriptTag = document.getElementsByTagName('script')[0];\n",
       "  firstScriptTag.parentNode.insertBefore(tag, firstScriptTag);\n",
       "});\n",
       "};\n",
       "\n",
       "if(typeof $3Dmolpromise === 'undefined') {\n",
       "$3Dmolpromise = null;\n",
       "  $3Dmolpromise = loadScriptAsync('https://cdnjs.cloudflare.com/ajax/libs/3Dmol/2.4.0/3Dmol-min.js');\n",
       "}\n",
       "\n",
       "var viewer_17309190127336798 = null;\n",
       "var warn = document.getElementById(\"3dmolwarning_17309190127336798\");\n",
       "if(warn) {\n",
       "    warn.parentNode.removeChild(warn);\n",
       "}\n",
       "$3Dmolpromise.then(function() {\n",
       "viewer_17309190127336798 = $3Dmol.createViewer(document.getElementById(\"3dmolviewer_17309190127336798\"),{backgroundColor:\"white\"});\n",
       "viewer_17309190127336798.zoomTo();\n",
       "\tviewer_17309190127336798.removeAllModels();\n",
       "\tviewer_17309190127336798.addModel(\"\\n     RDKit          3D\\n\\n 32 33  0  0  0  0  0  0  0  0999 V2000\\n    3.2325    1.3139    2.4067 C   0  0  0  0  0  0  0  0  0  0  0  0\\n    2.7865    0.2407    1.4537 C   0  0  0  0  0  0  0  0  0  0  0  0\\n    1.4793   -0.2638    1.5213 C   0  0  0  0  0  0  0  0  0  0  0  0\\n    1.0002   -1.2531    0.6531 C   0  0  0  0  0  0  0  0  0  0  0  0\\n   -0.3842   -1.7798    0.7709 C   0  0  0  0  0  0  0  0  0  0  0  0\\n   -1.3640   -0.9405    0.2054 O   0  0  0  0  0  0  0  0  0  0  0  0\\n    1.8767   -1.7538   -0.3259 C   0  0  0  0  0  0  0  0  0  0  0  0\\n    3.1795   -1.2570   -0.3991 C   0  0  0  0  0  0  0  0  0  0  0  0\\n    3.6599   -0.2805    0.4569 C   0  0  0  0  0  0  0  0  0  0  0  0\\n    4.9616    0.1488    0.3397 N   0  0  0  0  0  0  0  0  0  0  0  0\\n    5.8933    0.0344    1.4707 C   0  0  0  0  0  0  0  0  0  0  0  0\\n    7.2133   -0.5311    0.9663 C   0  0  0  0  0  0  0  0  0  0  0  0\\n    7.7670    0.2841   -0.0718 O   0  0  0  0  0  0  0  0  0  0  0  0\\n    6.8931    0.3173   -1.1974 C   0  0  0  0  0  0  0  0  0  0  0  0\\n    5.4677    0.7577   -0.8627 C   0  0  0  0  0  0  0  0  0  0  0  0\\n    3.9349    1.9500    1.7937 H   0  0  0  0  0  0  0  0  0  0  0  0\\n    2.3729    2.0197    2.5877 H   0  0  0  0  0  0  0  0  0  0  0  0\\n    3.6849    0.9191    3.3161 H   0  0  0  0  0  0  0  0  0  0  0  0\\n    0.8246    0.1522    2.2974 H   0  0  0  0  0  0  0  0  0  0  0  0\\n   -0.5583   -1.8689    1.8831 H   0  0  0  0  0  0  0  0  0  0  0  0\\n   -0.3984   -2.7791    0.2896 H   0  0  0  0  0  0  0  0  0  0  0  0\\n   -2.2204   -1.2439    0.5768 H   0  0  0  0  0  0  0  0  0  0  0  0\\n    1.5498   -2.5132   -1.0145 H   0  0  0  0  0  0  0  0  0  0  0  0\\n    3.8137   -1.6678   -1.1613 H   0  0  0  0  0  0  0  0  0  0  0  0\\n    5.5407   -0.6780    2.2131 H   0  0  0  0  0  0  0  0  0  0  0  0\\n    6.1525    1.0297    1.8923 H   0  0  0  0  0  0  0  0  0  0  0  0\\n    6.9756   -1.5341    0.5593 H   0  0  0  0  0  0  0  0  0  0  0  0\\n    7.9818   -0.5288    1.7330 H   0  0  0  0  0  0  0  0  0  0  0  0\\n    6.8987   -0.6549   -1.7181 H   0  0  0  0  0  0  0  0  0  0  0  0\\n    7.3071    1.1003   -1.8353 H   0  0  0  0  0  0  0  0  0  0  0  0\\n    5.4069    1.8693   -0.8290 H   0  0  0  0  0  0  0  0  0  0  0  0\\n    4.8595    0.3723   -1.6942 H   0  0  0  0  0  0  0  0  0  0  0  0\\n  1  2  1  0\\n  2  3  2  0\\n  3  4  1  0\\n  4  5  1  0\\n  5  6  1  0\\n  4  7  2  0\\n  7  8  1  0\\n  8  9  2  0\\n  2  9  1  0\\n  9 10  1  0\\n 10 11  1  0\\n 11 12  1  0\\n 12 13  1  0\\n 13 14  1  0\\n 14 15  1  0\\n 10 15  1  0\\n  1 16  1  0\\n  1 17  1  0\\n  1 18  1  0\\n  3 19  1  0\\n  5 20  1  0\\n  5 21  1  0\\n  6 22  1  0\\n  7 23  1  0\\n  8 24  1  0\\n 11 25  1  0\\n 11 26  1  0\\n 12 27  1  0\\n 12 28  1  0\\n 14 29  1  0\\n 14 30  1  0\\n 15 31  1  0\\n 15 32  1  0\\nM  END\\n\",\"sdf\");\n",
       "\tviewer_17309190127336798.setStyle({\"stick\": {}});\n",
       "\tviewer_17309190127336798.addModel(\"\\n     RDKit          3D\\n\\n 26 27  0  0  0  0  0  0  0  0999 V2000\\n   -0.2122    0.0598   -2.4849 O   0  0  0  0  0  0  0  0  0  0  0  0\\n   -1.2311   -0.6855   -1.6905 C   0  0  0  0  0  0  0  0  0  0  0  0\\n   -0.7054   -1.6459   -1.1674 O   0  0  0  0  0  0  0  0  0  0  0  0\\n   -2.5039   -0.0698   -1.7644 C   0  0  1  0  0  0  0  0  0  0  0  0\\n   -3.8237   -0.6842   -1.4215 C   0  0  0  0  0  0  0  0  0  0  0  0\\n   -4.7041    0.4633   -1.4490 N   0  0  0  0  0  0  0  0  0  0  0  0\\n   -6.1167    0.3825   -1.7570 C   0  0  0  0  0  0  0  0  0  0  0  0\\n   -6.9044    0.1698   -0.5428 C   0  0  0  0  0  0  0  0  0  0  0  0\\n   -7.5017    1.0192    0.3816 C   0  0  0  0  0  0  0  0  0  0  0  0\\n   -8.1328    0.1977    1.3380 C   0  0  0  0  0  0  0  0  0  0  0  0\\n   -7.8965   -1.0901    0.9629 C   0  0  0  0  0  0  0  0  0  0  0  0\\n   -7.1473   -1.1180   -0.1834 O   0  0  0  0  0  0  0  0  0  0  0  0\\n   -4.0516    1.6434   -1.1120 C   0  0  0  0  0  0  0  0  0  0  0  0\\n   -4.5684    2.7290   -0.9185 O   0  0  0  0  0  0  0  0  0  0  0  0\\n   -2.5872    1.3213   -1.0311 C   0  0  0  0  0  0  0  0  0  0  0  0\\n    0.6929    0.1678   -2.0531 H   0  0  0  0  0  0  0  0  0  0  0  0\\n   -2.7318    0.2704   -2.8119 H   0  0  0  0  0  0  0  0  0  0  0  0\\n   -3.8234   -1.0411   -0.3721 H   0  0  0  0  0  0  0  0  0  0  0  0\\n   -4.1425   -1.4623   -2.1373 H   0  0  0  0  0  0  0  0  0  0  0  0\\n   -6.4507    1.3592   -2.1958 H   0  0  0  0  0  0  0  0  0  0  0  0\\n   -6.2821   -0.3558   -2.5419 H   0  0  0  0  0  0  0  0  0  0  0  0\\n   -7.4508    2.0693    0.3164 H   0  0  0  0  0  0  0  0  0  0  0  0\\n   -8.6809    0.5323    2.1796 H   0  0  0  0  0  0  0  0  0  0  0  0\\n   -8.2000   -2.0239    1.4172 H   0  0  0  0  0  0  0  0  0  0  0  0\\n   -2.2570    1.1956    0.0013 H   0  0  0  0  0  0  0  0  0  0  0  0\\n   -2.0110    2.0682   -1.5889 H   0  0  0  0  0  0  0  0  0  0  0  0\\n  1  2  1  0\\n  2  3  2  0\\n  2  4  1  0\\n  4  5  1  0\\n  5  6  1  0\\n  6  7  1  0\\n  7  8  1  0\\n  8  9  2  0\\n  9 10  1  0\\n 10 11  2  0\\n 11 12  1  0\\n  8 12  1  0\\n  6 13  1  0\\n 13 14  2  0\\n 13 15  1  0\\n  4 15  1  0\\n  1 16  1  0\\n  4 17  1  6\\n  5 18  1  0\\n  5 19  1  0\\n  7 20  1  0\\n  7 21  1  0\\n  9 22  1  0\\n 10 23  1  0\\n 11 24  1  0\\n 15 25  1  0\\n 15 26  1  0\\nM  END\\n\",\"sdf\");\n",
       "\tviewer_17309190127336798.setStyle({\"stick\": {}});\n",
       "\tviewer_17309190127336798.setBackgroundColor(\"0xeeeeee\");\n",
       "\tviewer_17309190127336798.zoomTo();\n",
       "viewer_17309190127336798.render();\n",
       "});\n",
       "</script>"
      ]
     },
     "metadata": {},
     "output_type": "display_data"
    },
    {
     "data": {
      "application/3dmoljs_load.v0": "<div id=\"3dmolviewer_17309190127357068\"  style=\"position: relative; width: 400px; height: 400px;\">\n        <p id=\"3dmolwarning_17309190127357068\" style=\"background-color:#ffcccc;color:black\">3Dmol.js failed to load for some reason.  Please check your browser console for error messages.<br></p>\n        </div>\n<script>\n\nvar loadScriptAsync = function(uri){\n  return new Promise((resolve, reject) => {\n    //this is to ignore the existence of requirejs amd\n    var savedexports, savedmodule;\n    if (typeof exports !== 'undefined') savedexports = exports;\n    else exports = {}\n    if (typeof module !== 'undefined') savedmodule = module;\n    else module = {}\n\n    var tag = document.createElement('script');\n    tag.src = uri;\n    tag.async = true;\n    tag.onload = () => {\n        exports = savedexports;\n        module = savedmodule;\n        resolve();\n    };\n  var firstScriptTag = document.getElementsByTagName('script')[0];\n  firstScriptTag.parentNode.insertBefore(tag, firstScriptTag);\n});\n};\n\nif(typeof $3Dmolpromise === 'undefined') {\n$3Dmolpromise = null;\n  $3Dmolpromise = loadScriptAsync('https://cdnjs.cloudflare.com/ajax/libs/3Dmol/2.4.0/3Dmol-min.js');\n}\n\nvar viewer_17309190127357068 = null;\nvar warn = document.getElementById(\"3dmolwarning_17309190127357068\");\nif(warn) {\n    warn.parentNode.removeChild(warn);\n}\n$3Dmolpromise.then(function() {\nviewer_17309190127357068 = $3Dmol.createViewer(document.getElementById(\"3dmolviewer_17309190127357068\"),{backgroundColor:\"white\"});\nviewer_17309190127357068.zoomTo();\n\tviewer_17309190127357068.removeAllModels();\n\tviewer_17309190127357068.addModel(\"\\n     RDKit          3D\\n\\n 31 32  0  0  0  0  0  0  0  0999 V2000\\n    1.3872   -0.6489   -0.3150 O   0  0  0  0  0  0  0  0  0  0  0  0\\n    0.4513   -1.4774   -0.9887 C   0  0  0  0  0  0  0  0  0  0  0  0\\n   -1.0245   -1.1536   -0.7420 C   0  0  2  0  0  0  0  0  0  0  0  0\\n   -1.5743   -0.0037   -1.5512 C   0  0  0  0  0  0  0  0  0  0  0  0\\n   -1.7053    1.1657   -0.5805 C   0  0  0  0  0  0  0  0  0  0  0  0\\n   -1.2713    0.6293    0.7449 C   0  0  0  0  0  0  0  0  0  0  0  0\\n   -1.2186   -0.8177    0.6547 N   0  0  0  0  0  0  0  0  0  0  0  0\\n   -2.3710   -1.4839    1.2525 C   0  0  0  0  0  0  0  0  0  0  0  0\\n   -3.7232   -1.2387    0.6341 C   0  0  0  0  0  0  0  0  0  0  0  0\\n   -4.5023   -0.1321    1.0116 C   0  0  0  0  0  0  0  0  0  0  0  0\\n   -5.7790    0.0738    0.4313 C   0  0  0  0  0  0  0  0  0  0  0  0\\n   -6.2644   -0.8069   -0.5050 C   0  0  0  0  0  0  0  0  0  0  0  0\\n   -5.5010   -1.9075   -0.8874 C   0  0  0  0  0  0  0  0  0  0  0  0\\n   -5.9756   -2.7590   -1.7961 F   0  0  0  0  0  0  0  0  0  0  0  0\\n   -4.2392   -2.1297   -0.3275 C   0  0  0  0  0  0  0  0  0  0  0  0\\n    1.3172   -0.9073    0.6488 H   0  0  0  0  0  0  0  0  0  0  0  0\\n    0.6737   -1.4301   -2.0754 H   0  0  0  0  0  0  0  0  0  0  0  0\\n    0.6267   -2.4728   -0.5898 H   0  0  0  0  0  0  0  0  0  0  0  0\\n   -1.5500   -2.0837   -0.9766 H   0  0  0  0  0  0  0  0  0  0  0  0\\n   -2.5523   -0.2986   -1.9932 H   0  0  0  0  0  0  0  0  0  0  0  0\\n   -0.8525    0.2322   -2.3762 H   0  0  0  0  0  0  0  0  0  0  0  0\\n   -1.0776    1.9863   -0.9562 H   0  0  0  0  0  0  0  0  0  0  0  0\\n   -2.7438    1.5324   -0.5926 H   0  0  0  0  0  0  0  0  0  0  0  0\\n   -0.1939    0.9449    0.8682 H   0  0  0  0  0  0  0  0  0  0  0  0\\n   -1.7901    0.9931    1.6188 H   0  0  0  0  0  0  0  0  0  0  0  0\\n   -2.1540   -2.5680    1.1264 H   0  0  0  0  0  0  0  0  0  0  0  0\\n   -2.3709   -1.1916    2.3076 H   0  0  0  0  0  0  0  0  0  0  0  0\\n   -4.1455    0.5584    1.7319 H   0  0  0  0  0  0  0  0  0  0  0  0\\n   -6.3497    0.9345    0.7456 H   0  0  0  0  0  0  0  0  0  0  0  0\\n   -7.2291   -0.6444   -0.9385 H   0  0  0  0  0  0  0  0  0  0  0  0\\n   -3.7022   -2.9929   -0.6551 H   0  0  0  0  0  0  0  0  0  0  0  0\\n  1  2  1  0\\n  3  2  1  0\\n  3  4  1  0\\n  4  5  1  0\\n  5  6  1  0\\n  6  7  1  0\\n  3  7  1  0\\n  7  8  1  0\\n  8  9  1  0\\n  9 10  2  0\\n 10 11  1  0\\n 11 12  2  0\\n 12 13  1  0\\n 13 14  1  0\\n 13 15  2  0\\n  9 15  1  0\\n  1 16  1  0\\n  2 17  1  0\\n  2 18  1  0\\n  3 19  1  6\\n  4 20  1  0\\n  4 21  1  0\\n  5 22  1  0\\n  5 23  1  0\\n  6 24  1  0\\n  6 25  1  0\\n  8 26  1  0\\n  8 27  1  0\\n 10 28  1  0\\n 11 29  1  0\\n 12 30  1  0\\n 15 31  1  0\\nM  END\\n\",\"sdf\");\n\tviewer_17309190127357068.setStyle({\"stick\": {}});\n\tviewer_17309190127357068.addModel(\"\\n     RDKit          3D\\n\\n 18 18  0  0  0  0  0  0  0  0999 V2000\\n    1.3087   -0.6845   -0.3284 O   0  0  0  0  0  0  0  0  0  0  0  0\\n    1.8400    0.4431   -0.9314 C   0  0  0  0  0  0  0  0  0  0  0  0\\n    1.2517    0.9612   -1.8976 O   0  0  0  0  0  0  0  0  0  0  0  0\\n    3.0851    1.0291   -0.4424 C   0  0  0  0  0  0  0  0  0  0  0  0\\n    3.6920    2.2402   -0.8607 C   0  0  0  0  0  0  0  0  0  0  0  0\\n    4.8361    2.3794   -0.1250 C   0  0  0  0  0  0  0  0  0  0  0  0\\n    4.8800    1.2951    0.6799 N   0  0  0  0  0  0  0  0  0  0  0  0\\n    5.9165    1.0387    1.6458 C   0  0  0  0  0  0  0  0  0  0  0  0\\n    6.8577    0.0300    1.3142 C   0  0  0  0  0  0  0  0  0  0  0  0\\n    6.8576   -0.5600    0.1344 F   0  0  0  0  0  0  0  0  0  0  0  0\\n    8.1620    0.3142    1.6287 F   0  0  0  0  0  0  0  0  0  0  0  0\\n    3.8607    0.4520    0.5329 N   0  0  0  0  0  0  0  0  0  0  0  0\\n    0.6500   -1.2494   -0.8788 H   0  0  0  0  0  0  0  0  0  0  0  0\\n    3.3227    2.9022   -1.6010 H   0  0  0  0  0  0  0  0  0  0  0  0\\n    5.5866    3.1570   -0.1315 H   0  0  0  0  0  0  0  0  0  0  0  0\\n    6.4903    1.9933    1.8571 H   0  0  0  0  0  0  0  0  0  0  0  0\\n    5.3784    0.8980    2.6110 H   0  0  0  0  0  0  0  0  0  0  0  0\\n    6.6747   -0.8456    2.0239 H   0  0  0  0  0  0  0  0  0  0  0  0\\n  1  2  1  0\\n  2  3  2  0\\n  2  4  1  0\\n  4  5  1  0\\n  5  6  2  0\\n  6  7  1  0\\n  7  8  1  0\\n  8  9  1  0\\n  9 10  1  0\\n  9 11  1  0\\n  7 12  1  0\\n  4 12  2  0\\n  1 13  1  0\\n  5 14  1  0\\n  6 15  1  0\\n  8 16  1  0\\n  8 17  1  0\\n  9 18  1  0\\nM  END\\n\",\"sdf\");\n\tviewer_17309190127357068.setStyle({\"stick\": {}});\n\tviewer_17309190127357068.setBackgroundColor(\"0xeeeeee\");\n\tviewer_17309190127357068.zoomTo();\nviewer_17309190127357068.render();\n});\n</script>",
      "text/html": [
       "<div id=\"3dmolviewer_17309190127357068\"  style=\"position: relative; width: 400px; height: 400px;\">\n",
       "        <p id=\"3dmolwarning_17309190127357068\" style=\"background-color:#ffcccc;color:black\">3Dmol.js failed to load for some reason.  Please check your browser console for error messages.<br></p>\n",
       "        </div>\n",
       "<script>\n",
       "\n",
       "var loadScriptAsync = function(uri){\n",
       "  return new Promise((resolve, reject) => {\n",
       "    //this is to ignore the existence of requirejs amd\n",
       "    var savedexports, savedmodule;\n",
       "    if (typeof exports !== 'undefined') savedexports = exports;\n",
       "    else exports = {}\n",
       "    if (typeof module !== 'undefined') savedmodule = module;\n",
       "    else module = {}\n",
       "\n",
       "    var tag = document.createElement('script');\n",
       "    tag.src = uri;\n",
       "    tag.async = true;\n",
       "    tag.onload = () => {\n",
       "        exports = savedexports;\n",
       "        module = savedmodule;\n",
       "        resolve();\n",
       "    };\n",
       "  var firstScriptTag = document.getElementsByTagName('script')[0];\n",
       "  firstScriptTag.parentNode.insertBefore(tag, firstScriptTag);\n",
       "});\n",
       "};\n",
       "\n",
       "if(typeof $3Dmolpromise === 'undefined') {\n",
       "$3Dmolpromise = null;\n",
       "  $3Dmolpromise = loadScriptAsync('https://cdnjs.cloudflare.com/ajax/libs/3Dmol/2.4.0/3Dmol-min.js');\n",
       "}\n",
       "\n",
       "var viewer_17309190127357068 = null;\n",
       "var warn = document.getElementById(\"3dmolwarning_17309190127357068\");\n",
       "if(warn) {\n",
       "    warn.parentNode.removeChild(warn);\n",
       "}\n",
       "$3Dmolpromise.then(function() {\n",
       "viewer_17309190127357068 = $3Dmol.createViewer(document.getElementById(\"3dmolviewer_17309190127357068\"),{backgroundColor:\"white\"});\n",
       "viewer_17309190127357068.zoomTo();\n",
       "\tviewer_17309190127357068.removeAllModels();\n",
       "\tviewer_17309190127357068.addModel(\"\\n     RDKit          3D\\n\\n 31 32  0  0  0  0  0  0  0  0999 V2000\\n    1.3872   -0.6489   -0.3150 O   0  0  0  0  0  0  0  0  0  0  0  0\\n    0.4513   -1.4774   -0.9887 C   0  0  0  0  0  0  0  0  0  0  0  0\\n   -1.0245   -1.1536   -0.7420 C   0  0  2  0  0  0  0  0  0  0  0  0\\n   -1.5743   -0.0037   -1.5512 C   0  0  0  0  0  0  0  0  0  0  0  0\\n   -1.7053    1.1657   -0.5805 C   0  0  0  0  0  0  0  0  0  0  0  0\\n   -1.2713    0.6293    0.7449 C   0  0  0  0  0  0  0  0  0  0  0  0\\n   -1.2186   -0.8177    0.6547 N   0  0  0  0  0  0  0  0  0  0  0  0\\n   -2.3710   -1.4839    1.2525 C   0  0  0  0  0  0  0  0  0  0  0  0\\n   -3.7232   -1.2387    0.6341 C   0  0  0  0  0  0  0  0  0  0  0  0\\n   -4.5023   -0.1321    1.0116 C   0  0  0  0  0  0  0  0  0  0  0  0\\n   -5.7790    0.0738    0.4313 C   0  0  0  0  0  0  0  0  0  0  0  0\\n   -6.2644   -0.8069   -0.5050 C   0  0  0  0  0  0  0  0  0  0  0  0\\n   -5.5010   -1.9075   -0.8874 C   0  0  0  0  0  0  0  0  0  0  0  0\\n   -5.9756   -2.7590   -1.7961 F   0  0  0  0  0  0  0  0  0  0  0  0\\n   -4.2392   -2.1297   -0.3275 C   0  0  0  0  0  0  0  0  0  0  0  0\\n    1.3172   -0.9073    0.6488 H   0  0  0  0  0  0  0  0  0  0  0  0\\n    0.6737   -1.4301   -2.0754 H   0  0  0  0  0  0  0  0  0  0  0  0\\n    0.6267   -2.4728   -0.5898 H   0  0  0  0  0  0  0  0  0  0  0  0\\n   -1.5500   -2.0837   -0.9766 H   0  0  0  0  0  0  0  0  0  0  0  0\\n   -2.5523   -0.2986   -1.9932 H   0  0  0  0  0  0  0  0  0  0  0  0\\n   -0.8525    0.2322   -2.3762 H   0  0  0  0  0  0  0  0  0  0  0  0\\n   -1.0776    1.9863   -0.9562 H   0  0  0  0  0  0  0  0  0  0  0  0\\n   -2.7438    1.5324   -0.5926 H   0  0  0  0  0  0  0  0  0  0  0  0\\n   -0.1939    0.9449    0.8682 H   0  0  0  0  0  0  0  0  0  0  0  0\\n   -1.7901    0.9931    1.6188 H   0  0  0  0  0  0  0  0  0  0  0  0\\n   -2.1540   -2.5680    1.1264 H   0  0  0  0  0  0  0  0  0  0  0  0\\n   -2.3709   -1.1916    2.3076 H   0  0  0  0  0  0  0  0  0  0  0  0\\n   -4.1455    0.5584    1.7319 H   0  0  0  0  0  0  0  0  0  0  0  0\\n   -6.3497    0.9345    0.7456 H   0  0  0  0  0  0  0  0  0  0  0  0\\n   -7.2291   -0.6444   -0.9385 H   0  0  0  0  0  0  0  0  0  0  0  0\\n   -3.7022   -2.9929   -0.6551 H   0  0  0  0  0  0  0  0  0  0  0  0\\n  1  2  1  0\\n  3  2  1  0\\n  3  4  1  0\\n  4  5  1  0\\n  5  6  1  0\\n  6  7  1  0\\n  3  7  1  0\\n  7  8  1  0\\n  8  9  1  0\\n  9 10  2  0\\n 10 11  1  0\\n 11 12  2  0\\n 12 13  1  0\\n 13 14  1  0\\n 13 15  2  0\\n  9 15  1  0\\n  1 16  1  0\\n  2 17  1  0\\n  2 18  1  0\\n  3 19  1  6\\n  4 20  1  0\\n  4 21  1  0\\n  5 22  1  0\\n  5 23  1  0\\n  6 24  1  0\\n  6 25  1  0\\n  8 26  1  0\\n  8 27  1  0\\n 10 28  1  0\\n 11 29  1  0\\n 12 30  1  0\\n 15 31  1  0\\nM  END\\n\",\"sdf\");\n",
       "\tviewer_17309190127357068.setStyle({\"stick\": {}});\n",
       "\tviewer_17309190127357068.addModel(\"\\n     RDKit          3D\\n\\n 18 18  0  0  0  0  0  0  0  0999 V2000\\n    1.3087   -0.6845   -0.3284 O   0  0  0  0  0  0  0  0  0  0  0  0\\n    1.8400    0.4431   -0.9314 C   0  0  0  0  0  0  0  0  0  0  0  0\\n    1.2517    0.9612   -1.8976 O   0  0  0  0  0  0  0  0  0  0  0  0\\n    3.0851    1.0291   -0.4424 C   0  0  0  0  0  0  0  0  0  0  0  0\\n    3.6920    2.2402   -0.8607 C   0  0  0  0  0  0  0  0  0  0  0  0\\n    4.8361    2.3794   -0.1250 C   0  0  0  0  0  0  0  0  0  0  0  0\\n    4.8800    1.2951    0.6799 N   0  0  0  0  0  0  0  0  0  0  0  0\\n    5.9165    1.0387    1.6458 C   0  0  0  0  0  0  0  0  0  0  0  0\\n    6.8577    0.0300    1.3142 C   0  0  0  0  0  0  0  0  0  0  0  0\\n    6.8576   -0.5600    0.1344 F   0  0  0  0  0  0  0  0  0  0  0  0\\n    8.1620    0.3142    1.6287 F   0  0  0  0  0  0  0  0  0  0  0  0\\n    3.8607    0.4520    0.5329 N   0  0  0  0  0  0  0  0  0  0  0  0\\n    0.6500   -1.2494   -0.8788 H   0  0  0  0  0  0  0  0  0  0  0  0\\n    3.3227    2.9022   -1.6010 H   0  0  0  0  0  0  0  0  0  0  0  0\\n    5.5866    3.1570   -0.1315 H   0  0  0  0  0  0  0  0  0  0  0  0\\n    6.4903    1.9933    1.8571 H   0  0  0  0  0  0  0  0  0  0  0  0\\n    5.3784    0.8980    2.6110 H   0  0  0  0  0  0  0  0  0  0  0  0\\n    6.6747   -0.8456    2.0239 H   0  0  0  0  0  0  0  0  0  0  0  0\\n  1  2  1  0\\n  2  3  2  0\\n  2  4  1  0\\n  4  5  1  0\\n  5  6  2  0\\n  6  7  1  0\\n  7  8  1  0\\n  8  9  1  0\\n  9 10  1  0\\n  9 11  1  0\\n  7 12  1  0\\n  4 12  2  0\\n  1 13  1  0\\n  5 14  1  0\\n  6 15  1  0\\n  8 16  1  0\\n  8 17  1  0\\n  9 18  1  0\\nM  END\\n\",\"sdf\");\n",
       "\tviewer_17309190127357068.setStyle({\"stick\": {}});\n",
       "\tviewer_17309190127357068.setBackgroundColor(\"0xeeeeee\");\n",
       "\tviewer_17309190127357068.zoomTo();\n",
       "viewer_17309190127357068.render();\n",
       "});\n",
       "</script>"
      ]
     },
     "metadata": {},
     "output_type": "display_data"
    },
    {
     "data": {
      "application/3dmoljs_load.v0": "<div id=\"3dmolviewer_173091901273734\"  style=\"position: relative; width: 400px; height: 400px;\">\n        <p id=\"3dmolwarning_173091901273734\" style=\"background-color:#ffcccc;color:black\">3Dmol.js failed to load for some reason.  Please check your browser console for error messages.<br></p>\n        </div>\n<script>\n\nvar loadScriptAsync = function(uri){\n  return new Promise((resolve, reject) => {\n    //this is to ignore the existence of requirejs amd\n    var savedexports, savedmodule;\n    if (typeof exports !== 'undefined') savedexports = exports;\n    else exports = {}\n    if (typeof module !== 'undefined') savedmodule = module;\n    else module = {}\n\n    var tag = document.createElement('script');\n    tag.src = uri;\n    tag.async = true;\n    tag.onload = () => {\n        exports = savedexports;\n        module = savedmodule;\n        resolve();\n    };\n  var firstScriptTag = document.getElementsByTagName('script')[0];\n  firstScriptTag.parentNode.insertBefore(tag, firstScriptTag);\n});\n};\n\nif(typeof $3Dmolpromise === 'undefined') {\n$3Dmolpromise = null;\n  $3Dmolpromise = loadScriptAsync('https://cdnjs.cloudflare.com/ajax/libs/3Dmol/2.4.0/3Dmol-min.js');\n}\n\nvar viewer_173091901273734 = null;\nvar warn = document.getElementById(\"3dmolwarning_173091901273734\");\nif(warn) {\n    warn.parentNode.removeChild(warn);\n}\n$3Dmolpromise.then(function() {\nviewer_173091901273734 = $3Dmol.createViewer(document.getElementById(\"3dmolviewer_173091901273734\"),{backgroundColor:\"white\"});\nviewer_173091901273734.zoomTo();\n\tviewer_173091901273734.removeAllModels();\n\tviewer_173091901273734.addModel(\"\\n     RDKit          3D\\n\\n 30 31  0  0  0  0  0  0  0  0999 V2000\\n   -0.1873   -0.7320   -0.9695 O   0  0  0  0  0  0  0  0  0  0  0  0\\n   -1.6412   -0.9310   -0.9777 C   0  0  0  0  0  0  0  0  0  0  0  0\\n   -2.4599   -0.0738   -0.0074 C   0  0  0  0  0  0  0  0  0  0  0  0\\n   -2.3057    1.4406   -0.2099 C   0  0  0  0  0  0  0  0  0  0  0  0\\n   -3.2292    2.1402    0.7203 C   0  0  0  0  0  0  0  0  0  0  0  0\\n   -2.6614    1.9620    2.0282 O   0  0  0  0  0  0  0  0  0  0  0  0\\n   -2.7811    0.5924    2.4229 C   0  0  0  0  0  0  0  0  0  0  0  0\\n   -2.0409   -0.3231    1.4350 C   0  0  0  0  0  0  0  0  0  0  0  0\\n   -3.9023   -0.4644   -0.2689 C   0  0  0  0  0  0  0  0  0  0  0  0\\n   -4.5556   -1.4696    0.4389 C   0  0  0  0  0  0  0  0  0  0  0  0\\n   -5.8705   -1.8051    0.1858 C   0  0  0  0  0  0  0  0  0  0  0  0\\n   -6.5888   -1.1373   -0.7988 C   0  0  0  0  0  0  0  0  0  0  0  0\\n   -5.9703   -0.1309   -1.5235 C   0  0  0  0  0  0  0  0  0  0  0  0\\n   -4.6583    0.2054   -1.2723 C   0  0  0  0  0  0  0  0  0  0  0  0\\n   -0.0922    0.1254   -1.4631 H   0  0  0  0  0  0  0  0  0  0  0  0\\n   -1.7249   -1.9388   -0.5746 H   0  0  0  0  0  0  0  0  0  0  0  0\\n   -2.0122   -0.7840   -1.9783 H   0  0  0  0  0  0  0  0  0  0  0  0\\n   -2.3980    1.7067   -1.2614 H   0  0  0  0  0  0  0  0  0  0  0  0\\n   -1.2663    1.6498    0.1483 H   0  0  0  0  0  0  0  0  0  0  0  0\\n   -3.2443    3.2197    0.5793 H   0  0  0  0  0  0  0  0  0  0  0  0\\n   -4.2661    1.7126    0.7267 H   0  0  0  0  0  0  0  0  0  0  0  0\\n   -2.2268    0.5339    3.3580 H   0  0  0  0  0  0  0  0  0  0  0  0\\n   -3.8298    0.3050    2.4787 H   0  0  0  0  0  0  0  0  0  0  0  0\\n   -2.1848   -1.3345    1.7843 H   0  0  0  0  0  0  0  0  0  0  0  0\\n   -0.9633   -0.0700    1.4476 H   0  0  0  0  0  0  0  0  0  0  0  0\\n   -4.0161   -1.9959    1.2025 H   0  0  0  0  0  0  0  0  0  0  0  0\\n   -6.3384   -2.5931    0.7604 H   0  0  0  0  0  0  0  0  0  0  0  0\\n   -7.6218   -1.3907   -1.0077 H   0  0  0  0  0  0  0  0  0  0  0  0\\n   -6.5133    0.3942   -2.2880 H   0  0  0  0  0  0  0  0  0  0  0  0\\n   -4.2040    0.9936   -1.8539 H   0  0  0  0  0  0  0  0  0  0  0  0\\n  1  2  1  0\\n  2  3  1  0\\n  3  4  1  0\\n  4  5  1  0\\n  5  6  1  0\\n  6  7  1  0\\n  7  8  1  0\\n  3  8  1  0\\n  3  9  1  0\\n  9 10  2  0\\n 10 11  1  0\\n 11 12  2  0\\n 12 13  1  0\\n 13 14  2  0\\n  9 14  1  0\\n  1 15  1  0\\n  2 16  1  0\\n  2 17  1  0\\n  4 18  1  0\\n  4 19  1  0\\n  5 20  1  0\\n  5 21  1  0\\n  7 22  1  0\\n  7 23  1  0\\n  8 24  1  0\\n  8 25  1  0\\n 10 26  1  0\\n 11 27  1  0\\n 12 28  1  0\\n 13 29  1  0\\n 14 30  1  0\\nM  END\\n\",\"sdf\");\n\tviewer_173091901273734.setStyle({\"stick\": {}});\n\tviewer_173091901273734.addModel(\"\\n     RDKit          3D\\n\\n 26 27  0  0  0  0  0  0  0  0999 V2000\\n   -0.3337   -0.7553   -0.9984 O   0  0  0  0  0  0  0  0  0  0  0  0\\n    0.5040    0.2320   -1.4990 C   0  0  0  0  0  0  0  0  0  0  0  0\\n    0.0121    1.2814   -2.0226 O   0  0  0  0  0  0  0  0  0  0  0  0\\n    1.9807    0.0491   -1.4165 C   0  0  1  0  0  0  0  0  0  0  0  0\\n    2.5472   -0.1254   -0.0220 C   0  0  0  0  0  0  0  0  0  0  0  0\\n    3.8253   -0.7827   -0.2903 N   0  0  0  0  0  0  0  0  0  0  0  0\\n    4.8776   -0.8591    0.7013 C   0  0  0  0  0  0  0  0  0  0  0  0\\n    5.8678    0.1830    0.5554 C   0  0  0  0  0  0  0  0  0  0  0  0\\n    7.0073    0.2097   -0.2370 C   0  0  0  0  0  0  0  0  0  0  0  0\\n    7.6292    1.4364   -0.0185 C   0  0  0  0  0  0  0  0  0  0  0  0\\n    6.8917    2.1346    0.8777 C   0  0  0  0  0  0  0  0  0  0  0  0\\n    5.7699    1.3914    1.2725 O   0  0  0  0  0  0  0  0  0  0  0  0\\n    3.8341   -1.2818   -1.5732 C   0  0  0  0  0  0  0  0  0  0  0  0\\n    4.8301   -1.7489   -2.2110 O   0  0  0  0  0  0  0  0  0  0  0  0\\n    2.4514   -1.1868   -2.1152 C   0  0  0  0  0  0  0  0  0  0  0  0\\n   -1.3253   -0.8113   -1.2797 H   0  0  0  0  0  0  0  0  0  0  0  0\\n    2.5051    0.9081   -1.8553 H   0  0  0  0  0  0  0  0  0  0  0  0\\n    1.9122   -0.7807    0.6092 H   0  0  0  0  0  0  0  0  0  0  0  0\\n    2.7405    0.8279    0.4967 H   0  0  0  0  0  0  0  0  0  0  0  0\\n    4.4483   -0.8680    1.7437 H   0  0  0  0  0  0  0  0  0  0  0  0\\n    5.4176   -1.8457    0.6374 H   0  0  0  0  0  0  0  0  0  0  0  0\\n    7.2914   -0.5906   -0.8680 H   0  0  0  0  0  0  0  0  0  0  0  0\\n    8.5373    1.7879   -0.4721 H   0  0  0  0  0  0  0  0  0  0  0  0\\n    6.9989    3.1098    1.3252 H   0  0  0  0  0  0  0  0  0  0  0  0\\n    2.5407   -0.9627   -3.1915 H   0  0  0  0  0  0  0  0  0  0  0  0\\n    1.8530   -2.0878   -1.9036 H   0  0  0  0  0  0  0  0  0  0  0  0\\n  1  2  1  0\\n  2  3  2  0\\n  2  4  1  0\\n  4  5  1  0\\n  5  6  1  0\\n  6  7  1  0\\n  7  8  1  0\\n  8  9  2  0\\n  9 10  1  0\\n 10 11  2  0\\n 11 12  1  0\\n  8 12  1  0\\n  6 13  1  0\\n 13 14  2  0\\n 13 15  1  0\\n  4 15  1  0\\n  1 16  1  0\\n  4 17  1  6\\n  5 18  1  0\\n  5 19  1  0\\n  7 20  1  0\\n  7 21  1  0\\n  9 22  1  0\\n 10 23  1  0\\n 11 24  1  0\\n 15 25  1  0\\n 15 26  1  0\\nM  END\\n\",\"sdf\");\n\tviewer_173091901273734.setStyle({\"stick\": {}});\n\tviewer_173091901273734.setBackgroundColor(\"0xeeeeee\");\n\tviewer_173091901273734.zoomTo();\nviewer_173091901273734.render();\n});\n</script>",
      "text/html": [
       "<div id=\"3dmolviewer_173091901273734\"  style=\"position: relative; width: 400px; height: 400px;\">\n",
       "        <p id=\"3dmolwarning_173091901273734\" style=\"background-color:#ffcccc;color:black\">3Dmol.js failed to load for some reason.  Please check your browser console for error messages.<br></p>\n",
       "        </div>\n",
       "<script>\n",
       "\n",
       "var loadScriptAsync = function(uri){\n",
       "  return new Promise((resolve, reject) => {\n",
       "    //this is to ignore the existence of requirejs amd\n",
       "    var savedexports, savedmodule;\n",
       "    if (typeof exports !== 'undefined') savedexports = exports;\n",
       "    else exports = {}\n",
       "    if (typeof module !== 'undefined') savedmodule = module;\n",
       "    else module = {}\n",
       "\n",
       "    var tag = document.createElement('script');\n",
       "    tag.src = uri;\n",
       "    tag.async = true;\n",
       "    tag.onload = () => {\n",
       "        exports = savedexports;\n",
       "        module = savedmodule;\n",
       "        resolve();\n",
       "    };\n",
       "  var firstScriptTag = document.getElementsByTagName('script')[0];\n",
       "  firstScriptTag.parentNode.insertBefore(tag, firstScriptTag);\n",
       "});\n",
       "};\n",
       "\n",
       "if(typeof $3Dmolpromise === 'undefined') {\n",
       "$3Dmolpromise = null;\n",
       "  $3Dmolpromise = loadScriptAsync('https://cdnjs.cloudflare.com/ajax/libs/3Dmol/2.4.0/3Dmol-min.js');\n",
       "}\n",
       "\n",
       "var viewer_173091901273734 = null;\n",
       "var warn = document.getElementById(\"3dmolwarning_173091901273734\");\n",
       "if(warn) {\n",
       "    warn.parentNode.removeChild(warn);\n",
       "}\n",
       "$3Dmolpromise.then(function() {\n",
       "viewer_173091901273734 = $3Dmol.createViewer(document.getElementById(\"3dmolviewer_173091901273734\"),{backgroundColor:\"white\"});\n",
       "viewer_173091901273734.zoomTo();\n",
       "\tviewer_173091901273734.removeAllModels();\n",
       "\tviewer_173091901273734.addModel(\"\\n     RDKit          3D\\n\\n 30 31  0  0  0  0  0  0  0  0999 V2000\\n   -0.1873   -0.7320   -0.9695 O   0  0  0  0  0  0  0  0  0  0  0  0\\n   -1.6412   -0.9310   -0.9777 C   0  0  0  0  0  0  0  0  0  0  0  0\\n   -2.4599   -0.0738   -0.0074 C   0  0  0  0  0  0  0  0  0  0  0  0\\n   -2.3057    1.4406   -0.2099 C   0  0  0  0  0  0  0  0  0  0  0  0\\n   -3.2292    2.1402    0.7203 C   0  0  0  0  0  0  0  0  0  0  0  0\\n   -2.6614    1.9620    2.0282 O   0  0  0  0  0  0  0  0  0  0  0  0\\n   -2.7811    0.5924    2.4229 C   0  0  0  0  0  0  0  0  0  0  0  0\\n   -2.0409   -0.3231    1.4350 C   0  0  0  0  0  0  0  0  0  0  0  0\\n   -3.9023   -0.4644   -0.2689 C   0  0  0  0  0  0  0  0  0  0  0  0\\n   -4.5556   -1.4696    0.4389 C   0  0  0  0  0  0  0  0  0  0  0  0\\n   -5.8705   -1.8051    0.1858 C   0  0  0  0  0  0  0  0  0  0  0  0\\n   -6.5888   -1.1373   -0.7988 C   0  0  0  0  0  0  0  0  0  0  0  0\\n   -5.9703   -0.1309   -1.5235 C   0  0  0  0  0  0  0  0  0  0  0  0\\n   -4.6583    0.2054   -1.2723 C   0  0  0  0  0  0  0  0  0  0  0  0\\n   -0.0922    0.1254   -1.4631 H   0  0  0  0  0  0  0  0  0  0  0  0\\n   -1.7249   -1.9388   -0.5746 H   0  0  0  0  0  0  0  0  0  0  0  0\\n   -2.0122   -0.7840   -1.9783 H   0  0  0  0  0  0  0  0  0  0  0  0\\n   -2.3980    1.7067   -1.2614 H   0  0  0  0  0  0  0  0  0  0  0  0\\n   -1.2663    1.6498    0.1483 H   0  0  0  0  0  0  0  0  0  0  0  0\\n   -3.2443    3.2197    0.5793 H   0  0  0  0  0  0  0  0  0  0  0  0\\n   -4.2661    1.7126    0.7267 H   0  0  0  0  0  0  0  0  0  0  0  0\\n   -2.2268    0.5339    3.3580 H   0  0  0  0  0  0  0  0  0  0  0  0\\n   -3.8298    0.3050    2.4787 H   0  0  0  0  0  0  0  0  0  0  0  0\\n   -2.1848   -1.3345    1.7843 H   0  0  0  0  0  0  0  0  0  0  0  0\\n   -0.9633   -0.0700    1.4476 H   0  0  0  0  0  0  0  0  0  0  0  0\\n   -4.0161   -1.9959    1.2025 H   0  0  0  0  0  0  0  0  0  0  0  0\\n   -6.3384   -2.5931    0.7604 H   0  0  0  0  0  0  0  0  0  0  0  0\\n   -7.6218   -1.3907   -1.0077 H   0  0  0  0  0  0  0  0  0  0  0  0\\n   -6.5133    0.3942   -2.2880 H   0  0  0  0  0  0  0  0  0  0  0  0\\n   -4.2040    0.9936   -1.8539 H   0  0  0  0  0  0  0  0  0  0  0  0\\n  1  2  1  0\\n  2  3  1  0\\n  3  4  1  0\\n  4  5  1  0\\n  5  6  1  0\\n  6  7  1  0\\n  7  8  1  0\\n  3  8  1  0\\n  3  9  1  0\\n  9 10  2  0\\n 10 11  1  0\\n 11 12  2  0\\n 12 13  1  0\\n 13 14  2  0\\n  9 14  1  0\\n  1 15  1  0\\n  2 16  1  0\\n  2 17  1  0\\n  4 18  1  0\\n  4 19  1  0\\n  5 20  1  0\\n  5 21  1  0\\n  7 22  1  0\\n  7 23  1  0\\n  8 24  1  0\\n  8 25  1  0\\n 10 26  1  0\\n 11 27  1  0\\n 12 28  1  0\\n 13 29  1  0\\n 14 30  1  0\\nM  END\\n\",\"sdf\");\n",
       "\tviewer_173091901273734.setStyle({\"stick\": {}});\n",
       "\tviewer_173091901273734.addModel(\"\\n     RDKit          3D\\n\\n 26 27  0  0  0  0  0  0  0  0999 V2000\\n   -0.3337   -0.7553   -0.9984 O   0  0  0  0  0  0  0  0  0  0  0  0\\n    0.5040    0.2320   -1.4990 C   0  0  0  0  0  0  0  0  0  0  0  0\\n    0.0121    1.2814   -2.0226 O   0  0  0  0  0  0  0  0  0  0  0  0\\n    1.9807    0.0491   -1.4165 C   0  0  1  0  0  0  0  0  0  0  0  0\\n    2.5472   -0.1254   -0.0220 C   0  0  0  0  0  0  0  0  0  0  0  0\\n    3.8253   -0.7827   -0.2903 N   0  0  0  0  0  0  0  0  0  0  0  0\\n    4.8776   -0.8591    0.7013 C   0  0  0  0  0  0  0  0  0  0  0  0\\n    5.8678    0.1830    0.5554 C   0  0  0  0  0  0  0  0  0  0  0  0\\n    7.0073    0.2097   -0.2370 C   0  0  0  0  0  0  0  0  0  0  0  0\\n    7.6292    1.4364   -0.0185 C   0  0  0  0  0  0  0  0  0  0  0  0\\n    6.8917    2.1346    0.8777 C   0  0  0  0  0  0  0  0  0  0  0  0\\n    5.7699    1.3914    1.2725 O   0  0  0  0  0  0  0  0  0  0  0  0\\n    3.8341   -1.2818   -1.5732 C   0  0  0  0  0  0  0  0  0  0  0  0\\n    4.8301   -1.7489   -2.2110 O   0  0  0  0  0  0  0  0  0  0  0  0\\n    2.4514   -1.1868   -2.1152 C   0  0  0  0  0  0  0  0  0  0  0  0\\n   -1.3253   -0.8113   -1.2797 H   0  0  0  0  0  0  0  0  0  0  0  0\\n    2.5051    0.9081   -1.8553 H   0  0  0  0  0  0  0  0  0  0  0  0\\n    1.9122   -0.7807    0.6092 H   0  0  0  0  0  0  0  0  0  0  0  0\\n    2.7405    0.8279    0.4967 H   0  0  0  0  0  0  0  0  0  0  0  0\\n    4.4483   -0.8680    1.7437 H   0  0  0  0  0  0  0  0  0  0  0  0\\n    5.4176   -1.8457    0.6374 H   0  0  0  0  0  0  0  0  0  0  0  0\\n    7.2914   -0.5906   -0.8680 H   0  0  0  0  0  0  0  0  0  0  0  0\\n    8.5373    1.7879   -0.4721 H   0  0  0  0  0  0  0  0  0  0  0  0\\n    6.9989    3.1098    1.3252 H   0  0  0  0  0  0  0  0  0  0  0  0\\n    2.5407   -0.9627   -3.1915 H   0  0  0  0  0  0  0  0  0  0  0  0\\n    1.8530   -2.0878   -1.9036 H   0  0  0  0  0  0  0  0  0  0  0  0\\n  1  2  1  0\\n  2  3  2  0\\n  2  4  1  0\\n  4  5  1  0\\n  5  6  1  0\\n  6  7  1  0\\n  7  8  1  0\\n  8  9  2  0\\n  9 10  1  0\\n 10 11  2  0\\n 11 12  1  0\\n  8 12  1  0\\n  6 13  1  0\\n 13 14  2  0\\n 13 15  1  0\\n  4 15  1  0\\n  1 16  1  0\\n  4 17  1  6\\n  5 18  1  0\\n  5 19  1  0\\n  7 20  1  0\\n  7 21  1  0\\n  9 22  1  0\\n 10 23  1  0\\n 11 24  1  0\\n 15 25  1  0\\n 15 26  1  0\\nM  END\\n\",\"sdf\");\n",
       "\tviewer_173091901273734.setStyle({\"stick\": {}});\n",
       "\tviewer_173091901273734.setBackgroundColor(\"0xeeeeee\");\n",
       "\tviewer_173091901273734.zoomTo();\n",
       "viewer_173091901273734.render();\n",
       "});\n",
       "</script>"
      ]
     },
     "metadata": {},
     "output_type": "display_data"
    }
   ],
   "source": [
    "IPythonConsole.drawMol3D(rss[30])\n",
    "IPythonConsole.drawMol3D(rss[8])\n",
    "IPythonConsole.drawMol3D(rss[56])"
   ]
  },
  {
   "cell_type": "code",
   "execution_count": 63,
   "metadata": {},
   "outputs": [],
   "source": [
    "lstm = nn.LSTM(10, 20, 4)\n",
    "x = torch.randn(100, 10)"
   ]
  },
  {
   "cell_type": "code",
   "execution_count": null,
   "metadata": {},
   "outputs": [
    {
     "data": {
      "text/plain": [
       "torch.Size([100, 20])"
      ]
     },
     "execution_count": 65,
     "metadata": {},
     "output_type": "execute_result"
    }
   ],
   "source": [
    "h, s = lstm.forward(x)\n",
    "h"
   ]
  },
  {
   "cell_type": "code",
   "execution_count": 62,
   "metadata": {},
   "outputs": [
    {
     "data": {
      "text/plain": [
       "(tensor([[-0.0525, -0.0571,  0.0385,  ..., -0.0081,  0.0175,  0.1001],\n",
       "         [ 0.0322, -0.0394, -0.0159,  ...,  0.0766,  0.1541,  0.1743],\n",
       "         [-0.2353, -0.1752, -0.0386,  ..., -0.1775, -0.0704,  0.0820],\n",
       "         ...,\n",
       "         [ 0.1760, -0.0525, -0.2538,  ...,  0.0552,  0.1396,  0.0465],\n",
       "         [-0.1046, -0.0082, -0.2883,  ..., -0.0496,  0.0014,  0.1604],\n",
       "         [ 0.0317, -0.0455,  0.0217,  ...,  0.1513,  0.1305,  0.1429]],\n",
       "        grad_fn=<SqueezeBackward1>),\n",
       " (tensor([[ 0.0317, -0.0455,  0.0217,  0.0805,  0.0263, -0.0540,  0.0900, -0.0477,\n",
       "           -0.0007, -0.2500,  0.0469, -0.1687, -0.0918,  0.0160,  0.0715, -0.0816,\n",
       "            0.3123,  0.1513,  0.1305,  0.1429]], grad_fn=<SqueezeBackward1>),\n",
       "  tensor([[ 0.1374, -0.0811,  0.0380,  0.1889,  0.0661, -0.1661,  0.2801, -0.1207,\n",
       "           -0.0018, -0.3261,  0.0814, -0.4646, -0.3284,  0.0302,  0.1227, -0.1482,\n",
       "            0.5949,  0.3548,  0.2618,  0.3341]], grad_fn=<SqueezeBackward1>)))"
      ]
     },
     "execution_count": 62,
     "metadata": {},
     "output_type": "execute_result"
    }
   ],
   "source": [
    "lstm.forward(x, s)"
   ]
  },
  {
   "cell_type": "code",
   "execution_count": 56,
   "metadata": {},
   "outputs": [
    {
     "data": {
      "text/plain": [
       "(tensor([[-0.0703,  0.0428,  0.1800,  ..., -0.0210, -0.2877,  0.0613],\n",
       "         [-0.1013, -0.0081, -0.1667,  ...,  0.0061, -0.1745,  0.0566],\n",
       "         [-0.0644, -0.1273, -0.0225,  ...,  0.0335, -0.0829, -0.0045],\n",
       "         ...,\n",
       "         [-0.0529,  0.0177,  0.1491,  ..., -0.0621, -0.1960,  0.3746],\n",
       "         [-0.2014,  0.0593,  0.0248,  ...,  0.0333,  0.0382, -0.1322],\n",
       "         [-0.2701,  0.0830,  0.1306,  ..., -0.1056, -0.1556,  0.1402]],\n",
       "        grad_fn=<SqueezeBackward1>),\n",
       " (tensor([[-0.2701,  0.0830,  0.1306, -0.0162, -0.0139,  0.1608,  0.0859,  0.1055,\n",
       "           -0.1505, -0.0091,  0.0663, -0.0626, -0.1543,  0.0490,  0.0343, -0.0616,\n",
       "            0.0113, -0.1056, -0.1556,  0.1402]], grad_fn=<SqueezeBackward1>),\n",
       "  tensor([[-0.5152,  0.3017,  0.2508, -0.0303, -0.0581,  0.3139,  0.2053,  0.2394,\n",
       "           -0.2394, -0.0176,  0.1284, -0.1908, -0.4526,  0.1136,  0.0726, -0.1071,\n",
       "            0.0335, -0.1901, -0.3309,  0.1885]], grad_fn=<SqueezeBackward1>)))"
      ]
     },
     "execution_count": 56,
     "metadata": {},
     "output_type": "execute_result"
    }
   ],
   "source": [
    "lstm.forward(torch.randn(100, 10))"
   ]
  },
  {
   "cell_type": "code",
   "execution_count": null,
   "metadata": {},
   "outputs": [
    {
     "data": {
      "image/png": "[encoded data removed]",
      "text/plain": [
       "<rdkit.Chem.rdchem.Mol at 0x7efd5eb55230>"
      ]
     },
     "execution_count": 20,
     "metadata": {},
     "output_type": "execute_result"
    }
   ],
   "source": [
    "IPythonConsole.drawMol3D(ps[0])"
   ]
  },
  {
   "cell_type": "code",
   "execution_count": 31,
   "metadata": {},
   "outputs": [
    {
     "data": {
      "application/3dmoljs_load.v0": "<div id=\"3dmolviewer_17308963820803368\"  style=\"position: relative; width: 400px; height: 400px;\">\n        <p id=\"3dmolwarning_17308963820803368\" style=\"background-color:#ffcccc;color:black\">3Dmol.js failed to load for some reason.  Please check your browser console for error messages.<br></p>\n        </div>\n<script>\n\nvar loadScriptAsync = function(uri){\n  return new Promise((resolve, reject) => {\n    //this is to ignore the existence of requirejs amd\n    var savedexports, savedmodule;\n    if (typeof exports !== 'undefined') savedexports = exports;\n    else exports = {}\n    if (typeof module !== 'undefined') savedmodule = module;\n    else module = {}\n\n    var tag = document.createElement('script');\n    tag.src = uri;\n    tag.async = true;\n    tag.onload = () => {\n        exports = savedexports;\n        module = savedmodule;\n        resolve();\n    };\n  var firstScriptTag = document.getElementsByTagName('script')[0];\n  firstScriptTag.parentNode.insertBefore(tag, firstScriptTag);\n});\n};\n\nif(typeof $3Dmolpromise === 'undefined') {\n$3Dmolpromise = null;\n  $3Dmolpromise = loadScriptAsync('https://cdnjs.cloudflare.com/ajax/libs/3Dmol/2.4.0/3Dmol-min.js');\n}\n\nvar viewer_17308963820803368 = null;\nvar warn = document.getElementById(\"3dmolwarning_17308963820803368\");\nif(warn) {\n    warn.parentNode.removeChild(warn);\n}\n$3Dmolpromise.then(function() {\nviewer_17308963820803368 = $3Dmol.createViewer(document.getElementById(\"3dmolviewer_17308963820803368\"),{backgroundColor:\"white\"});\nviewer_17308963820803368.zoomTo();\n\tviewer_17308963820803368.removeAllModels();\n\tviewer_17308963820803368.addModel(\"\\n     RDKit          3D\\n\\n 18 18  0  0  0  0  0  0  0  0999 V2000\\n    3.7818    3.2809    0.2959 O   0  0  0  0  0  0  0  0  0  0  0  0\\n    3.9545    2.0703    0.8062 C   0  0  0  0  0  0  0  0  0  0  0  0\\n    4.8914    1.7567    1.5635 O   0  0  0  0  0  0  0  0  0  0  0  0\\n    2.8789    1.1552    0.3456 C   0  0  0  0  0  0  0  0  0  0  0  0\\n    3.4526   -0.1935   -0.2354 C   0  0  0  0  0  0  0  0  0  0  0  0\\n    4.7585   -0.3902   -0.5742 C   0  0  0  0  0  0  0  0  0  0  0  0\\n    5.0839   -1.9808   -1.1467 S   0  0  0  0  0  0  0  0  0  0  0  0\\n    3.4338   -2.3993   -0.9297 C   0  0  0  0  0  0  0  0  0  0  0  0\\n    2.6855   -1.4094   -0.4594 C   0  0  0  0  0  0  0  0  0  0  0  0\\n    1.2505   -1.5082   -0.2124 C   0  0  0  0  0  0  0  0  0  0  0  0\\n    0.6567   -0.4631    0.2221 O   0  0  0  0  0  0  0  0  0  0  0  0\\n    0.5551   -2.6502   -0.4276 O   0  0  0  0  0  0  0  0  0  0  0  0\\n    4.4434    4.0802    0.4857 H   0  0  0  0  0  0  0  0  0  0  0  0\\n    2.3971    0.7986    1.2987 H   0  0  0  0  0  0  0  0  0  0  0  0\\n    2.1580    1.5310   -0.3436 H   0  0  0  0  0  0  0  0  0  0  0  0\\n    5.5859    0.4852   -0.4724 H   0  0  0  0  0  0  0  0  0  0  0  0\\n    2.9786   -3.4909   -1.1777 H   0  0  0  0  0  0  0  0  0  0  0  0\\n   -0.2888   -2.8136    0.1436 H   0  0  0  0  0  0  0  0  0  0  0  0\\n  1  2  1  0\\n  2  3  2  0\\n  2  4  1  0\\n  4  5  1  0\\n  5  6  2  0\\n  6  7  1  0\\n  7  8  1  0\\n  8  9  2  0\\n  5  9  1  0\\n  9 10  1  0\\n 10 11  2  0\\n 10 12  1  0\\n  1 13  1  0\\n  4 14  1  0\\n  4 15  1  0\\n  6 16  1  0\\n  8 17  1  0\\n 12 18  1  0\\nM  END\\n\",\"sdf\");\n\tviewer_17308963820803368.setStyle({\"stick\": {}});\n\tviewer_17308963820803368.addModel(\"\\n     RDKit          3D\\n\\n 27 27  0  0  0  0  0  0  0  0999 V2000\\n   -1.4011   -2.0982   -1.3331 C   0  0  0  0  0  0  0  0  0  0  0  0\\n   -0.8994   -1.3164   -0.1002 C   0  0  2  0  0  0  0  0  0  0  0  0\\n    0.3087   -0.5881   -0.5854 N   0  0  0  0  0  0  0  0  0  0  0  0\\n   -0.3615   -2.2800    0.9559 C   0  0  0  0  0  0  0  0  0  0  0  0\\n    0.9291   -2.5984    0.5200 O   0  0  0  0  0  0  0  0  0  0  0  0\\n   -1.9773   -0.3260    0.3256 C   0  0  0  0  0  0  0  0  0  0  0  0\\n   -2.5659   -0.3341    1.5949 C   0  0  0  0  0  0  0  0  0  0  0  0\\n   -3.5583    0.5961    1.9580 C   0  0  0  0  0  0  0  0  0  0  0  0\\n   -3.9671    1.5527    1.0274 C   0  0  0  0  0  0  0  0  0  0  0  0\\n   -3.4106    1.6008   -0.2504 C   0  0  0  0  0  0  0  0  0  0  0  0\\n   -2.4078    0.6556   -0.6070 C   0  0  0  0  0  0  0  0  0  0  0  0\\n   -3.8668    2.6303   -1.2292 C   0  0  0  0  0  0  0  0  0  0  0  0\\n   -2.8901    3.0116   -2.0919 F   0  0  0  0  0  0  0  0  0  0  0  0\\n   -4.7693    2.1220   -2.0894 F   0  0  0  0  0  0  0  0  0  0  0  0\\n   -4.3646    3.7227   -0.6823 F   0  0  0  0  0  0  0  0  0  0  0  0\\n   -1.3381   -1.4598   -2.2396 H   0  0  0  0  0  0  0  0  0  0  0  0\\n   -2.3539   -2.5805   -1.2010 H   0  0  0  0  0  0  0  0  0  0  0  0\\n   -0.6518   -2.8948   -1.4534 H   0  0  0  0  0  0  0  0  0  0  0  0\\n    0.5091    0.2301    0.0033 H   0  0  0  0  0  0  0  0  0  0  0  0\\n    0.2117   -0.4030   -1.6036 H   0  0  0  0  0  0  0  0  0  0  0  0\\n   -0.2624   -1.6799    1.8724 H   0  0  0  0  0  0  0  0  0  0  0  0\\n   -1.0036   -3.1577    1.0586 H   0  0  0  0  0  0  0  0  0  0  0  0\\n    0.9053   -3.5400    0.2341 H   0  0  0  0  0  0  0  0  0  0  0  0\\n   -2.2248   -1.0905    2.2918 H   0  0  0  0  0  0  0  0  0  0  0  0\\n   -3.9609    0.5305    2.9402 H   0  0  0  0  0  0  0  0  0  0  0  0\\n   -4.7236    2.2710    1.2877 H   0  0  0  0  0  0  0  0  0  0  0  0\\n   -1.9738    0.6832   -1.5845 H   0  0  0  0  0  0  0  0  0  0  0  0\\n  1  2  1  0\\n  2  3  1  6\\n  2  4  1  0\\n  4  5  1  0\\n  2  6  1  0\\n  6  7  2  0\\n  7  8  1  0\\n  8  9  2  0\\n  9 10  1  0\\n 10 11  2  0\\n  6 11  1  0\\n 10 12  1  0\\n 12 13  1  0\\n 12 14  1  0\\n 12 15  1  0\\n  1 16  1  0\\n  1 17  1  0\\n  1 18  1  0\\n  3 19  1  0\\n  3 20  1  0\\n  4 21  1  0\\n  4 22  1  0\\n  5 23  1  0\\n  7 24  1  0\\n  8 25  1  0\\n  9 26  1  0\\n 11 27  1  0\\nM  END\\n\",\"sdf\");\n\tviewer_17308963820803368.setStyle({\"stick\": {}});\n\tviewer_17308963820803368.addModel(\"\\n     RDKit          3D\\n\\n 39 41  0  0  0  0  0  0  0  0999 V2000\\n    2.6842   -1.4029   -0.4772 C   0  0  0  0  0  0  0  0  0  0  0  0\\n    1.2471   -1.5281   -0.1936 C   0  0  0  0  0  0  0  0  0  0  0  0\\n    0.3662   -0.6291   -0.5622 N   0  0  0  0  0  0  0  0  0  0  0  0\\n   -0.8754   -1.3102   -0.1202 C   0  0  2  0  0  0  0  0  0  0  0  0\\n   -0.3590   -2.2803    0.9756 C   0  0  0  0  0  0  0  0  0  0  0  0\\n    0.9172   -2.6453    0.5579 O   0  0  0  0  0  0  0  0  0  0  0  0\\n    3.4335   -2.4277   -0.9094 C   0  0  0  0  0  0  0  0  0  0  0  0\\n    3.4414   -0.1774   -0.2752 C   0  0  0  0  0  0  0  0  0  0  0  0\\n    5.0886   -1.9912   -1.1441 S   0  0  0  0  0  0  0  0  0  0  0  0\\n    2.8777    1.1696    0.3359 C   0  0  0  0  0  0  0  0  0  0  0  0\\n    4.7632   -0.3758   -0.5958 C   0  0  0  0  0  0  0  0  0  0  0  0\\n    3.9516    2.0708    0.8468 C   0  0  0  0  0  0  0  0  0  0  0  0\\n    3.7981    3.2874    0.2903 O   0  0  0  0  0  0  0  0  0  0  0  0\\n    4.8860    1.7570    1.5758 O   0  0  0  0  0  0  0  0  0  0  0  0\\n   -1.4220   -2.1748   -1.2941 C   0  0  0  0  0  0  0  0  0  0  0  0\\n   -1.9418   -0.3092    0.3079 C   0  0  0  0  0  0  0  0  0  0  0  0\\n   -2.5533   -0.3322    1.5675 C   0  0  0  0  0  0  0  0  0  0  0  0\\n   -2.3809    0.6747   -0.6277 C   0  0  0  0  0  0  0  0  0  0  0  0\\n   -3.5487    0.5915    1.9310 C   0  0  0  0  0  0  0  0  0  0  0  0\\n   -3.4052    1.5913   -0.2799 C   0  0  0  0  0  0  0  0  0  0  0  0\\n   -3.9612    1.5457    1.0014 C   0  0  0  0  0  0  0  0  0  0  0  0\\n   -3.8845    2.6267   -1.2523 C   0  0  0  0  0  0  0  0  0  0  0  0\\n   -3.9700    2.1774   -2.5285 F   0  0  0  0  0  0  0  0  0  0  0  0\\n   -3.0677    3.7098   -1.2952 F   0  0  0  0  0  0  0  0  0  0  0  0\\n   -5.1159    3.1147   -0.9681 F   0  0  0  0  0  0  0  0  0  0  0  0\\n   -0.2787   -1.7995    1.9562 H   0  0  0  0  0  0  0  0  0  0  0  0\\n   -1.0377   -3.1487    1.0849 H   0  0  0  0  0  0  0  0  0  0  0  0\\n    3.1746   -3.4582   -1.1686 H   0  0  0  0  0  0  0  0  0  0  0  0\\n    2.2349    1.6211   -0.4731 H   0  0  0  0  0  0  0  0  0  0  0  0\\n    2.1944    0.8893    1.1591 H   0  0  0  0  0  0  0  0  0  0  0  0\\n    5.6357    0.2662   -0.5446 H   0  0  0  0  0  0  0  0  0  0  0  0\\n    4.7013    3.6797    0.3142 H   0  0  0  0  0  0  0  0  0  0  0  0\\n   -1.6778   -1.5827   -2.1521 H   0  0  0  0  0  0  0  0  0  0  0  0\\n   -2.3024   -2.7418   -0.9834 H   0  0  0  0  0  0  0  0  0  0  0  0\\n   -0.6833   -2.8907   -1.6320 H   0  0  0  0  0  0  0  0  0  0  0  0\\n   -2.2826   -1.0656    2.3324 H   0  0  0  0  0  0  0  0  0  0  0  0\\n   -1.9186    0.7017   -1.6206 H   0  0  0  0  0  0  0  0  0  0  0  0\\n   -3.9822    0.5530    2.9211 H   0  0  0  0  0  0  0  0  0  0  0  0\\n   -4.7468    2.2442    1.3074 H   0  0  0  0  0  0  0  0  0  0  0  0\\n  1  2  1  0\\n  2  3  2  0\\n  3  4  1  0\\n  4  5  1  0\\n  5  6  1  0\\n  6  2  1  0\\n  7  1  2  0\\n  8  1  1  0\\n  9  7  1  0\\n 10  8  1  0\\n  8 11  2  0\\n 11  9  1  0\\n 12 10  1  0\\n 13 12  1  0\\n 12 14  2  0\\n  4 15  1  6\\n  4 16  1  0\\n 16 17  2  0\\n 16 18  1  0\\n 17 19  1  0\\n 20 18  2  0\\n 19 21  2  0\\n 21 20  1  0\\n 20 22  1  0\\n 22 23  1  0\\n 22 24  1  0\\n 22 25  1  0\\n  5 26  1  0\\n  5 27  1  0\\n  7 28  1  0\\n 10 29  1  0\\n 10 30  1  0\\n 11 31  1  0\\n 13 32  1  0\\n 15 33  1  0\\n 15 34  1  0\\n 15 35  1  0\\n 17 36  1  0\\n 18 37  1  0\\n 19 38  1  0\\n 21 39  1  0\\nM  END\\n\",\"sdf\");\n\tviewer_17308963820803368.setStyle({\"stick\": {}});\n\tviewer_17308963820803368.setBackgroundColor(\"0xeeeeee\");\n\tviewer_17308963820803368.zoomTo();\nviewer_17308963820803368.render();\n});\n</script>",
      "text/html": [
       "<div id=\"3dmolviewer_17308963820803368\"  style=\"position: relative; width: 400px; height: 400px;\">\n",
       "        <p id=\"3dmolwarning_17308963820803368\" style=\"background-color:#ffcccc;color:black\">3Dmol.js failed to load for some reason.  Please check your browser console for error messages.<br></p>\n",
       "        </div>\n",
       "<script>\n",
       "\n",
       "var loadScriptAsync = function(uri){\n",
       "  return new Promise((resolve, reject) => {\n",
       "    //this is to ignore the existence of requirejs amd\n",
       "    var savedexports, savedmodule;\n",
       "    if (typeof exports !== 'undefined') savedexports = exports;\n",
       "    else exports = {}\n",
       "    if (typeof module !== 'undefined') savedmodule = module;\n",
       "    else module = {}\n",
       "\n",
       "    var tag = document.createElement('script');\n",
       "    tag.src = uri;\n",
       "    tag.async = true;\n",
       "    tag.onload = () => {\n",
       "        exports = savedexports;\n",
       "        module = savedmodule;\n",
       "        resolve();\n",
       "    };\n",
       "  var firstScriptTag = document.getElementsByTagName('script')[0];\n",
       "  firstScriptTag.parentNode.insertBefore(tag, firstScriptTag);\n",
       "});\n",
       "};\n",
       "\n",
       "if(typeof $3Dmolpromise === 'undefined') {\n",
       "$3Dmolpromise = null;\n",
       "  $3Dmolpromise = loadScriptAsync('https://cdnjs.cloudflare.com/ajax/libs/3Dmol/2.4.0/3Dmol-min.js');\n",
       "}\n",
       "\n",
       "var viewer_17308963820803368 = null;\n",
       "var warn = document.getElementById(\"3dmolwarning_17308963820803368\");\n",
       "if(warn) {\n",
       "    warn.parentNode.removeChild(warn);\n",
       "}\n",
       "$3Dmolpromise.then(function() {\n",
       "viewer_17308963820803368 = $3Dmol.createViewer(document.getElementById(\"3dmolviewer_17308963820803368\"),{backgroundColor:\"white\"});\n",
       "viewer_17308963820803368.zoomTo();\n",
       "\tviewer_17308963820803368.removeAllModels();\n",
       "\tviewer_17308963820803368.addModel(\"\\n     RDKit          3D\\n\\n 18 18  0  0  0  0  0  0  0  0999 V2000\\n    3.7818    3.2809    0.2959 O   0  0  0  0  0  0  0  0  0  0  0  0\\n    3.9545    2.0703    0.8062 C   0  0  0  0  0  0  0  0  0  0  0  0\\n    4.8914    1.7567    1.5635 O   0  0  0  0  0  0  0  0  0  0  0  0\\n    2.8789    1.1552    0.3456 C   0  0  0  0  0  0  0  0  0  0  0  0\\n    3.4526   -0.1935   -0.2354 C   0  0  0  0  0  0  0  0  0  0  0  0\\n    4.7585   -0.3902   -0.5742 C   0  0  0  0  0  0  0  0  0  0  0  0\\n    5.0839   -1.9808   -1.1467 S   0  0  0  0  0  0  0  0  0  0  0  0\\n    3.4338   -2.3993   -0.9297 C   0  0  0  0  0  0  0  0  0  0  0  0\\n    2.6855   -1.4094   -0.4594 C   0  0  0  0  0  0  0  0  0  0  0  0\\n    1.2505   -1.5082   -0.2124 C   0  0  0  0  0  0  0  0  0  0  0  0\\n    0.6567   -0.4631    0.2221 O   0  0  0  0  0  0  0  0  0  0  0  0\\n    0.5551   -2.6502   -0.4276 O   0  0  0  0  0  0  0  0  0  0  0  0\\n    4.4434    4.0802    0.4857 H   0  0  0  0  0  0  0  0  0  0  0  0\\n    2.3971    0.7986    1.2987 H   0  0  0  0  0  0  0  0  0  0  0  0\\n    2.1580    1.5310   -0.3436 H   0  0  0  0  0  0  0  0  0  0  0  0\\n    5.5859    0.4852   -0.4724 H   0  0  0  0  0  0  0  0  0  0  0  0\\n    2.9786   -3.4909   -1.1777 H   0  0  0  0  0  0  0  0  0  0  0  0\\n   -0.2888   -2.8136    0.1436 H   0  0  0  0  0  0  0  0  0  0  0  0\\n  1  2  1  0\\n  2  3  2  0\\n  2  4  1  0\\n  4  5  1  0\\n  5  6  2  0\\n  6  7  1  0\\n  7  8  1  0\\n  8  9  2  0\\n  5  9  1  0\\n  9 10  1  0\\n 10 11  2  0\\n 10 12  1  0\\n  1 13  1  0\\n  4 14  1  0\\n  4 15  1  0\\n  6 16  1  0\\n  8 17  1  0\\n 12 18  1  0\\nM  END\\n\",\"sdf\");\n",
       "\tviewer_17308963820803368.setStyle({\"stick\": {}});\n",
       "\tviewer_17308963820803368.addModel(\"\\n     RDKit          3D\\n\\n 27 27  0  0  0  0  0  0  0  0999 V2000\\n   -1.4011   -2.0982   -1.3331 C   0  0  0  0  0  0  0  0  0  0  0  0\\n   -0.8994   -1.3164   -0.1002 C   0  0  2  0  0  0  0  0  0  0  0  0\\n    0.3087   -0.5881   -0.5854 N   0  0  0  0  0  0  0  0  0  0  0  0\\n   -0.3615   -2.2800    0.9559 C   0  0  0  0  0  0  0  0  0  0  0  0\\n    0.9291   -2.5984    0.5200 O   0  0  0  0  0  0  0  0  0  0  0  0\\n   -1.9773   -0.3260    0.3256 C   0  0  0  0  0  0  0  0  0  0  0  0\\n   -2.5659   -0.3341    1.5949 C   0  0  0  0  0  0  0  0  0  0  0  0\\n   -3.5583    0.5961    1.9580 C   0  0  0  0  0  0  0  0  0  0  0  0\\n   -3.9671    1.5527    1.0274 C   0  0  0  0  0  0  0  0  0  0  0  0\\n   -3.4106    1.6008   -0.2504 C   0  0  0  0  0  0  0  0  0  0  0  0\\n   -2.4078    0.6556   -0.6070 C   0  0  0  0  0  0  0  0  0  0  0  0\\n   -3.8668    2.6303   -1.2292 C   0  0  0  0  0  0  0  0  0  0  0  0\\n   -2.8901    3.0116   -2.0919 F   0  0  0  0  0  0  0  0  0  0  0  0\\n   -4.7693    2.1220   -2.0894 F   0  0  0  0  0  0  0  0  0  0  0  0\\n   -4.3646    3.7227   -0.6823 F   0  0  0  0  0  0  0  0  0  0  0  0\\n   -1.3381   -1.4598   -2.2396 H   0  0  0  0  0  0  0  0  0  0  0  0\\n   -2.3539   -2.5805   -1.2010 H   0  0  0  0  0  0  0  0  0  0  0  0\\n   -0.6518   -2.8948   -1.4534 H   0  0  0  0  0  0  0  0  0  0  0  0\\n    0.5091    0.2301    0.0033 H   0  0  0  0  0  0  0  0  0  0  0  0\\n    0.2117   -0.4030   -1.6036 H   0  0  0  0  0  0  0  0  0  0  0  0\\n   -0.2624   -1.6799    1.8724 H   0  0  0  0  0  0  0  0  0  0  0  0\\n   -1.0036   -3.1577    1.0586 H   0  0  0  0  0  0  0  0  0  0  0  0\\n    0.9053   -3.5400    0.2341 H   0  0  0  0  0  0  0  0  0  0  0  0\\n   -2.2248   -1.0905    2.2918 H   0  0  0  0  0  0  0  0  0  0  0  0\\n   -3.9609    0.5305    2.9402 H   0  0  0  0  0  0  0  0  0  0  0  0\\n   -4.7236    2.2710    1.2877 H   0  0  0  0  0  0  0  0  0  0  0  0\\n   -1.9738    0.6832   -1.5845 H   0  0  0  0  0  0  0  0  0  0  0  0\\n  1  2  1  0\\n  2  3  1  6\\n  2  4  1  0\\n  4  5  1  0\\n  2  6  1  0\\n  6  7  2  0\\n  7  8  1  0\\n  8  9  2  0\\n  9 10  1  0\\n 10 11  2  0\\n  6 11  1  0\\n 10 12  1  0\\n 12 13  1  0\\n 12 14  1  0\\n 12 15  1  0\\n  1 16  1  0\\n  1 17  1  0\\n  1 18  1  0\\n  3 19  1  0\\n  3 20  1  0\\n  4 21  1  0\\n  4 22  1  0\\n  5 23  1  0\\n  7 24  1  0\\n  8 25  1  0\\n  9 26  1  0\\n 11 27  1  0\\nM  END\\n\",\"sdf\");\n",
       "\tviewer_17308963820803368.setStyle({\"stick\": {}});\n",
       "\tviewer_17308963820803368.addModel(\"\\n     RDKit          3D\\n\\n 39 41  0  0  0  0  0  0  0  0999 V2000\\n    2.6842   -1.4029   -0.4772 C   0  0  0  0  0  0  0  0  0  0  0  0\\n    1.2471   -1.5281   -0.1936 C   0  0  0  0  0  0  0  0  0  0  0  0\\n    0.3662   -0.6291   -0.5622 N   0  0  0  0  0  0  0  0  0  0  0  0\\n   -0.8754   -1.3102   -0.1202 C   0  0  2  0  0  0  0  0  0  0  0  0\\n   -0.3590   -2.2803    0.9756 C   0  0  0  0  0  0  0  0  0  0  0  0\\n    0.9172   -2.6453    0.5579 O   0  0  0  0  0  0  0  0  0  0  0  0\\n    3.4335   -2.4277   -0.9094 C   0  0  0  0  0  0  0  0  0  0  0  0\\n    3.4414   -0.1774   -0.2752 C   0  0  0  0  0  0  0  0  0  0  0  0\\n    5.0886   -1.9912   -1.1441 S   0  0  0  0  0  0  0  0  0  0  0  0\\n    2.8777    1.1696    0.3359 C   0  0  0  0  0  0  0  0  0  0  0  0\\n    4.7632   -0.3758   -0.5958 C   0  0  0  0  0  0  0  0  0  0  0  0\\n    3.9516    2.0708    0.8468 C   0  0  0  0  0  0  0  0  0  0  0  0\\n    3.7981    3.2874    0.2903 O   0  0  0  0  0  0  0  0  0  0  0  0\\n    4.8860    1.7570    1.5758 O   0  0  0  0  0  0  0  0  0  0  0  0\\n   -1.4220   -2.1748   -1.2941 C   0  0  0  0  0  0  0  0  0  0  0  0\\n   -1.9418   -0.3092    0.3079 C   0  0  0  0  0  0  0  0  0  0  0  0\\n   -2.5533   -0.3322    1.5675 C   0  0  0  0  0  0  0  0  0  0  0  0\\n   -2.3809    0.6747   -0.6277 C   0  0  0  0  0  0  0  0  0  0  0  0\\n   -3.5487    0.5915    1.9310 C   0  0  0  0  0  0  0  0  0  0  0  0\\n   -3.4052    1.5913   -0.2799 C   0  0  0  0  0  0  0  0  0  0  0  0\\n   -3.9612    1.5457    1.0014 C   0  0  0  0  0  0  0  0  0  0  0  0\\n   -3.8845    2.6267   -1.2523 C   0  0  0  0  0  0  0  0  0  0  0  0\\n   -3.9700    2.1774   -2.5285 F   0  0  0  0  0  0  0  0  0  0  0  0\\n   -3.0677    3.7098   -1.2952 F   0  0  0  0  0  0  0  0  0  0  0  0\\n   -5.1159    3.1147   -0.9681 F   0  0  0  0  0  0  0  0  0  0  0  0\\n   -0.2787   -1.7995    1.9562 H   0  0  0  0  0  0  0  0  0  0  0  0\\n   -1.0377   -3.1487    1.0849 H   0  0  0  0  0  0  0  0  0  0  0  0\\n    3.1746   -3.4582   -1.1686 H   0  0  0  0  0  0  0  0  0  0  0  0\\n    2.2349    1.6211   -0.4731 H   0  0  0  0  0  0  0  0  0  0  0  0\\n    2.1944    0.8893    1.1591 H   0  0  0  0  0  0  0  0  0  0  0  0\\n    5.6357    0.2662   -0.5446 H   0  0  0  0  0  0  0  0  0  0  0  0\\n    4.7013    3.6797    0.3142 H   0  0  0  0  0  0  0  0  0  0  0  0\\n   -1.6778   -1.5827   -2.1521 H   0  0  0  0  0  0  0  0  0  0  0  0\\n   -2.3024   -2.7418   -0.9834 H   0  0  0  0  0  0  0  0  0  0  0  0\\n   -0.6833   -2.8907   -1.6320 H   0  0  0  0  0  0  0  0  0  0  0  0\\n   -2.2826   -1.0656    2.3324 H   0  0  0  0  0  0  0  0  0  0  0  0\\n   -1.9186    0.7017   -1.6206 H   0  0  0  0  0  0  0  0  0  0  0  0\\n   -3.9822    0.5530    2.9211 H   0  0  0  0  0  0  0  0  0  0  0  0\\n   -4.7468    2.2442    1.3074 H   0  0  0  0  0  0  0  0  0  0  0  0\\n  1  2  1  0\\n  2  3  2  0\\n  3  4  1  0\\n  4  5  1  0\\n  5  6  1  0\\n  6  2  1  0\\n  7  1  2  0\\n  8  1  1  0\\n  9  7  1  0\\n 10  8  1  0\\n  8 11  2  0\\n 11  9  1  0\\n 12 10  1  0\\n 13 12  1  0\\n 12 14  2  0\\n  4 15  1  6\\n  4 16  1  0\\n 16 17  2  0\\n 16 18  1  0\\n 17 19  1  0\\n 20 18  2  0\\n 19 21  2  0\\n 21 20  1  0\\n 20 22  1  0\\n 22 23  1  0\\n 22 24  1  0\\n 22 25  1  0\\n  5 26  1  0\\n  5 27  1  0\\n  7 28  1  0\\n 10 29  1  0\\n 10 30  1  0\\n 11 31  1  0\\n 13 32  1  0\\n 15 33  1  0\\n 15 34  1  0\\n 15 35  1  0\\n 17 36  1  0\\n 18 37  1  0\\n 19 38  1  0\\n 21 39  1  0\\nM  END\\n\",\"sdf\");\n",
       "\tviewer_17308963820803368.setStyle({\"stick\": {}});\n",
       "\tviewer_17308963820803368.setBackgroundColor(\"0xeeeeee\");\n",
       "\tviewer_17308963820803368.zoomTo();\n",
       "viewer_17308963820803368.render();\n",
       "});\n",
       "</script>"
      ]
     },
     "metadata": {},
     "output_type": "display_data"
    }
   ],
   "source": [
    "IPythonConsole.drawMol3D(result[0]+[result[1]])"
   ]
  },
  {
   "cell_type": "code",
   "execution_count": null,
   "metadata": {},
   "outputs": [],
   "source": []
  }
 ],
 "metadata": {
  "kernelspec": {
   "display_name": "thesis2",
   "language": "python",
   "name": "python3"
  },
  "language_info": {
   "codemirror_mode": {
    "name": "ipython",
    "version": 3
   },
   "file_extension": ".py",
   "mimetype": "text/x-python",
   "name": "python",
   "nbconvert_exporter": "python",
   "pygments_lexer": "ipython3",
   "version": "3.11.10"
  }
 },
 "nbformat": 4,
 "nbformat_minor": 2
}
