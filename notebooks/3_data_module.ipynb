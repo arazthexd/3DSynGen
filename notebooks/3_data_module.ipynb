{
 "cells": [
  {
   "cell_type": "code",
   "execution_count": 2,
   "metadata": {},
   "outputs": [],
   "source": [
    "import sys\n",
    "sys.path.append(\"..\")\n",
    "\n",
    "from rdkit.Chem.Draw import IPythonConsole, MolsToGridImage"
   ]
  },
  {
   "cell_type": "code",
   "execution_count": 5,
   "metadata": {},
   "outputs": [],
   "source": [
    "import lightning as L\n",
    "\n",
    "from typing import List\n",
    "from src.utils.dtypes import BuildingBlock as BB\n",
    "from src.utils.dtypes import CustomReaction as CR\n",
    "from src.data.dataset import CRBBDataset"
   ]
  },
  {
   "cell_type": "code",
   "execution_count": null,
   "metadata": {},
   "outputs": [],
   "source": [
    "class CRBBDataModule(L.LightningDataModule):\n",
    "    def __init__(self, \n",
    "                 root: str = 'crbb', \n",
    "                 batch_size=32,\n",
    "                 rxns: List[CR] = list(),\n",
    "                 rxn_files: List[str] = list(),\n",
    "                 reactant_bbs: List[BB] = list(),\n",
    "                 reactant_sdfs: List[str] = list(),\n",
    "                 train_ligs: List[BB] = list(),\n",
    "                 val_ligs: List[BB] = list(),\n",
    "                 test_ligs: List[BB] = list(),\n",
    "                 train_ligsdfs: List[str] = list(),\n",
    "                 val_ligsdfs: List[str] = list(),\n",
    "                 test_ligsdfs: List[str] = list(),):\n",
    "        \n",
    "        super().__init__()\n",
    "        self.root = root\n",
    "        self.batch_size = batch_size\n",
    "\n",
    "        self.rxns = rxns if rxns is not None else []\n",
    "        self.rxn_files = rxn_files\n",
    "\n",
    "        self.reactant_bbs = reactant_bbs\n",
    "        self.reactant_sdfs = reactant_sdfs\n",
    "\n",
    "        self.train_ligs = train_ligs\n",
    "        self.train_ligsdfs = train_ligsdfs\n",
    "\n",
    "        self.val_ligs = val_ligs\n",
    "        self.val_ligsdfs = val_ligsdfs\n",
    "\n",
    "        self.test_ligs = test_ligs\n",
    "        self.test_ligsdfs = test_ligsdfs\n",
    "\n",
    "    def setup(self, stage=None):\n",
    "        if stage == 'fit':\n",
    "            self.train_dataset = CRBBDataset(root=self.root,\n",
    "                                             rxns=self.rxns,\n",
    "                                             rxn_files=self.rxn_files,\n",
    "                                             bbs=self.reactant_bbs,\n",
    "                                             bb_files=self.reactant_sdfs,\n",
    "                                             ligs=self.train_ligs,\n",
    "                                             lig_files=self.train_ligsdfs)\n",
    "            self.val_dataset = CRBBDataset(root=self.root,\n",
    "                                            rxns=self.rxns,\n",
    "                                            rxn_files=self.rxn_files,\n",
    "                                            bbs=self.reactant_bbs,\n",
    "                                            bb_files=self.reactant_sdfs,\n",
    "                                            ligs=self.val_ligs,\n",
    "                                            lig_files=self.val_ligsdfs)\n",
    "\n",
    "    def train_dataloader(self):\n",
    "        return L.DataLoader(self.train_dataset, batch_size=self.batch_size)"
   ]
  }
 ],
 "metadata": {
  "kernelspec": {
   "display_name": "thesis2",
   "language": "python",
   "name": "python3"
  },
  "language_info": {
   "codemirror_mode": {
    "name": "ipython",
    "version": 3
   },
   "file_extension": ".py",
   "mimetype": "text/x-python",
   "name": "python",
   "nbconvert_exporter": "python",
   "pygments_lexer": "ipython3",
   "version": "3.11.10"
  }
 },
 "nbformat": 4,
 "nbformat_minor": 2
}
