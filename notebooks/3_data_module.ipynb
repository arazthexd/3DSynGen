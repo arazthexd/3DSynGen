{
 "cells": [
  {
   "cell_type": "code",
   "execution_count": 1,
   "metadata": {},
   "outputs": [],
   "source": [
    "import sys\n",
    "sys.path.append(\"..\")\n",
    "\n",
    "from rdkit.Chem.Draw import IPythonConsole, MolsToGridImage"
   ]
  },
  {
   "cell_type": "code",
   "execution_count": 2,
   "metadata": {},
   "outputs": [],
   "source": [
    "import lightning as L\n",
    "\n",
    "import os\n",
    "\n",
    "from typing import List\n",
    "from src.utils.dtypes import BuildingBlock as BB\n",
    "from src.utils.dtypes import CustomReaction as CR\n",
    "from src.data.dataset import CRBBDataset, CRBBOutput\n",
    "\n",
    "\n",
    "from torch.utils.data import DataLoader"
   ]
  },
  {
   "cell_type": "code",
   "execution_count": 3,
   "metadata": {},
   "outputs": [
    {
     "name": "stderr",
     "output_type": "stream",
     "text": [
      "100%|██████████| 1920/1920 [00:03<00:00, 566.45it/s]\n"
     ]
    }
   ],
   "source": [
    "bbs = BB.read_from_sdf(\"../data/raw/EnamineHighFidFrags.sdf\")\n",
    "rxns = CR.parse_txt(\"../data/raw/rxn.txt\")"
   ]
  },
  {
   "cell_type": "code",
   "execution_count": null,
   "metadata": {},
   "outputs": [],
   "source": [
    "def make_dir(path: str):\n",
    "    if not os.path.exists(path):\n",
    "        os.mkdir(path)\n",
    "    \n",
    "class CRBBDataModule(L.LightningDataModule):\n",
    "    def __init__(self, \n",
    "                 root: str = 'crbb', \n",
    "                 batch_size=32,\n",
    "                 rxns: List[CR] = list(),\n",
    "                 rxn_files: List[str] = list(),\n",
    "                 reactant_bbs: List[BB] = list(),\n",
    "                 reactant_sdfs: List[str] = list(),\n",
    "                 train_ligs: List[BB] = list(),\n",
    "                 val_ligs: List[BB] = list(),\n",
    "                 test_ligs: List[BB] = list(),\n",
    "                 train_ligsdfs: List[str] = list(),\n",
    "                 val_ligsdfs: List[str] = list(),\n",
    "                 test_ligsdfs: List[str] = list(),\n",
    "                 force_reload: bool = False):\n",
    "        \n",
    "        super().__init__()\n",
    "        self.root = root\n",
    "        self.train_root = os.path.join(root, 'train')\n",
    "        self.val_root = os.path.join(root, 'val')\n",
    "        self.test_root = os.path.join(root, 'test')\n",
    "        [make_dir(r) for r in [self.root, self.train_root, \n",
    "                               self.val_root, self.test_root]]\n",
    "        \n",
    "        self.batch_size = batch_size\n",
    "        self.force_reload = force_reload\n",
    "\n",
    "        self.rxns = rxns if rxns is not None else []\n",
    "        self.rxn_files = rxn_files\n",
    "\n",
    "        self.reactant_bbs = reactant_bbs\n",
    "        self.reactant_sdfs = reactant_sdfs\n",
    "\n",
    "        self.train_ligs = train_ligs\n",
    "        self.train_ligsdfs = train_ligsdfs\n",
    "\n",
    "        self.val_ligs = val_ligs\n",
    "        self.val_ligsdfs = val_ligsdfs\n",
    "\n",
    "        self.test_ligs = test_ligs\n",
    "        self.test_ligsdfs = test_ligsdfs\n",
    "\n",
    "    def setup(self, stage=None):\n",
    "        if stage == 'fit' or stage is None:\n",
    "            self.train_dataset = CRBBDataset(root=self.train_root,\n",
    "                                             rxns=self.rxns,\n",
    "                                             rxn_files=self.rxn_files,\n",
    "                                             bbs=self.reactant_bbs,\n",
    "                                             bb_files=self.reactant_sdfs,\n",
    "                                             ligs=self.train_ligs,\n",
    "                                             lig_files=self.train_ligsdfs,\n",
    "                                             force_reload=self.force_reload)\n",
    "            self.val_dataset = CRBBDataset(root=self.val_root,\n",
    "                                            rxns=self.rxns,\n",
    "                                            rxn_files=self.rxn_files,\n",
    "                                            bbs=self.reactant_bbs,\n",
    "                                            bb_files=self.reactant_sdfs,\n",
    "                                            ligs=self.val_ligs,\n",
    "                                            lig_files=self.val_ligsdfs,\n",
    "                                            force_reload=self.force_reload)\n",
    "        \n",
    "        if stage == 'test' or stage is None:\n",
    "            self.test_dataset = CRBBDataset(root=self.test_root,\n",
    "                                            rxns=self.rxns,\n",
    "                                            rxn_files=self.rxn_files,\n",
    "                                            bbs=self.reactant_bbs,\n",
    "                                            bb_files=self.reactant_sdfs,\n",
    "                                            ligs=self.test_ligs,\n",
    "                                            lig_files=self.test_ligsdfs,\n",
    "                                            force_reload=self.force_reload)\n",
    "    \n",
    "    def train_dataloader(self):\n",
    "        return DataLoader(self.train_dataset, batch_size=self.batch_size, \n",
    "                          shuffle=True, collate_fn=CRBBOutput.collate_fn)\n",
    "    \n",
    "    def val_dataloader(self):\n",
    "        return DataLoader(self.val_dataset, batch_size=self.batch_size,\n",
    "                          shuffle=False, collate_fn=CRBBOutput.collate_fn)\n",
    "\n",
    "\n",
    "datamodule = CRBBDataModule(rxns=rxns,\n",
    "                            reactant_bbs=bbs[:100],\n",
    "                            train_ligs=bbs[101:200],\n",
    "                            val_ligs=bbs[201:300],\n",
    "                            force_reload=True)"
   ]
  },
  {
   "cell_type": "code",
   "execution_count": 6,
   "metadata": {},
   "outputs": [
    {
     "name": "stdout",
     "output_type": "stream",
     "text": [
      "Creating building block dataset...\n"
     ]
    },
    {
     "name": "stderr",
     "output_type": "stream",
     "text": [
      "Processing...\n"
     ]
    },
    {
     "name": "stdout",
     "output_type": "stream",
     "text": [
      "Loading building blocks...\n",
      "Creating conformers for building blocks...\n"
     ]
    },
    {
     "name": "stderr",
     "output_type": "stream",
     "text": [
      "100%|██████████| 100/100 [00:00<00:00, 473.19it/s]\n"
     ]
    },
    {
     "name": "stdout",
     "output_type": "stream",
     "text": [
      "Featurizing building blocks...\n"
     ]
    },
    {
     "name": "stderr",
     "output_type": "stream",
     "text": [
      "100%|██████████| 100/100 [00:00<00:00, 586.24it/s]"
     ]
    },
    {
     "name": "stdout",
     "output_type": "stream",
     "text": [
      "Featurizing building block conformers...\n"
     ]
    },
    {
     "name": "stderr",
     "output_type": "stream",
     "text": [
      "\n",
      "100%|██████████| 100/100 [00:00<00:00, 151.37it/s]\n",
      "Done!\n",
      "Processing...\n"
     ]
    },
    {
     "name": "stdout",
     "output_type": "stream",
     "text": [
      "Creating reaction dataset...\n",
      "Loading reactions...\n",
      "Featurizing reactions...\n"
     ]
    },
    {
     "name": "stderr",
     "output_type": "stream",
     "text": [
      "100%|██████████| 2/2 [00:00<00:00, 4488.29it/s]"
     ]
    },
    {
     "name": "stdout",
     "output_type": "stream",
     "text": [
      "Creating ligand dataset...\n"
     ]
    },
    {
     "name": "stderr",
     "output_type": "stream",
     "text": [
      "\n",
      "Done!\n",
      "Processing...\n"
     ]
    },
    {
     "name": "stdout",
     "output_type": "stream",
     "text": [
      "Loading building blocks...\n",
      "Creating conformers for building blocks...\n"
     ]
    },
    {
     "name": "stderr",
     "output_type": "stream",
     "text": [
      "100%|██████████| 99/99 [00:00<00:00, 542.64it/s]\n"
     ]
    },
    {
     "name": "stdout",
     "output_type": "stream",
     "text": [
      "Featurizing building blocks...\n"
     ]
    },
    {
     "name": "stderr",
     "output_type": "stream",
     "text": [
      "100%|██████████| 99/99 [00:00<00:00, 715.57it/s]"
     ]
    },
    {
     "name": "stdout",
     "output_type": "stream",
     "text": [
      "Featurizing building block conformers...\n"
     ]
    },
    {
     "name": "stderr",
     "output_type": "stream",
     "text": [
      "\n",
      "100%|██████████| 99/99 [00:00<00:00, 189.81it/s]\n",
      "Done!\n",
      "Processing...\n"
     ]
    },
    {
     "name": "stdout",
     "output_type": "stream",
     "text": [
      "Matching building blocks (and ligs) and reactions...\n"
     ]
    },
    {
     "name": "stderr",
     "output_type": "stream",
     "text": [
      "100%|██████████| 2/2 [00:00<00:00, 26.10it/s]\n",
      "100%|██████████| 100/100 [00:00<00:00, 5294.03it/s]\n",
      "100%|██████████| 99/99 [00:00<00:00, 4841.95it/s]\n"
     ]
    },
    {
     "name": "stdout",
     "output_type": "stream",
     "text": [
      "Constructing searcher for every rxn reactant...\n"
     ]
    },
    {
     "name": "stderr",
     "output_type": "stream",
     "text": [
      "100%|██████████| 1/1 [00:00<00:00, 215.17it/s]\n"
     ]
    },
    {
     "name": "stdout",
     "output_type": "stream",
     "text": [
      "Constructing conformer searcher for every building block...\n"
     ]
    },
    {
     "name": "stderr",
     "output_type": "stream",
     "text": [
      "100%|██████████| 100/100 [00:00<00:00, 3248.48it/s]\n",
      "Done!\n"
     ]
    },
    {
     "name": "stdout",
     "output_type": "stream",
     "text": [
      "Creating building block dataset...\n"
     ]
    },
    {
     "name": "stderr",
     "output_type": "stream",
     "text": [
      "Processing...\n"
     ]
    },
    {
     "name": "stdout",
     "output_type": "stream",
     "text": [
      "Loading building blocks...\n",
      "Creating conformers for building blocks...\n"
     ]
    },
    {
     "name": "stderr",
     "output_type": "stream",
     "text": [
      "100%|██████████| 100/100 [00:00<00:00, 509.74it/s]\n"
     ]
    },
    {
     "name": "stdout",
     "output_type": "stream",
     "text": [
      "Featurizing building blocks...\n"
     ]
    },
    {
     "name": "stderr",
     "output_type": "stream",
     "text": [
      "100%|██████████| 100/100 [00:00<00:00, 597.26it/s]\n"
     ]
    },
    {
     "name": "stdout",
     "output_type": "stream",
     "text": [
      "Featurizing building block conformers...\n"
     ]
    },
    {
     "name": "stderr",
     "output_type": "stream",
     "text": [
      "100%|██████████| 100/100 [00:00<00:00, 209.89it/s]\n",
      "Done!\n",
      "Processing...\n"
     ]
    },
    {
     "name": "stdout",
     "output_type": "stream",
     "text": [
      "Creating reaction dataset...\n",
      "Loading reactions...\n",
      "Featurizing reactions...\n"
     ]
    },
    {
     "name": "stderr",
     "output_type": "stream",
     "text": [
      "100%|██████████| 2/2 [00:00<00:00, 3855.06it/s]"
     ]
    },
    {
     "name": "stdout",
     "output_type": "stream",
     "text": [
      "Creating ligand dataset...\n"
     ]
    },
    {
     "name": "stderr",
     "output_type": "stream",
     "text": [
      "\n",
      "Done!\n",
      "Processing...\n"
     ]
    },
    {
     "name": "stdout",
     "output_type": "stream",
     "text": [
      "Loading building blocks...\n",
      "Creating conformers for building blocks...\n"
     ]
    },
    {
     "name": "stderr",
     "output_type": "stream",
     "text": [
      "100%|██████████| 99/99 [00:00<00:00, 345.88it/s]\n"
     ]
    },
    {
     "name": "stdout",
     "output_type": "stream",
     "text": [
      "Featurizing building blocks...\n"
     ]
    },
    {
     "name": "stderr",
     "output_type": "stream",
     "text": [
      "100%|██████████| 99/99 [00:00<00:00, 688.71it/s]\n"
     ]
    },
    {
     "name": "stdout",
     "output_type": "stream",
     "text": [
      "Featurizing building block conformers...\n"
     ]
    },
    {
     "name": "stderr",
     "output_type": "stream",
     "text": [
      "100%|██████████| 99/99 [00:00<00:00, 164.17it/s]\n",
      "Done!\n",
      "Processing...\n"
     ]
    },
    {
     "name": "stdout",
     "output_type": "stream",
     "text": [
      "Matching building blocks (and ligs) and reactions...\n"
     ]
    },
    {
     "name": "stderr",
     "output_type": "stream",
     "text": [
      "100%|██████████| 2/2 [00:00<00:00, 17.16it/s]\n",
      "100%|██████████| 100/100 [00:00<00:00, 3646.14it/s]\n",
      "100%|██████████| 99/99 [00:00<00:00, 3337.78it/s]\n"
     ]
    },
    {
     "name": "stdout",
     "output_type": "stream",
     "text": [
      "Constructing searcher for every rxn reactant...\n"
     ]
    },
    {
     "name": "stderr",
     "output_type": "stream",
     "text": [
      "100%|██████████| 1/1 [00:00<00:00, 302.64it/s]\n"
     ]
    },
    {
     "name": "stdout",
     "output_type": "stream",
     "text": [
      "Constructing conformer searcher for every building block...\n"
     ]
    },
    {
     "name": "stderr",
     "output_type": "stream",
     "text": [
      "100%|██████████| 100/100 [00:00<00:00, 2980.69it/s]\n",
      "Done!\n"
     ]
    }
   ],
   "source": [
    "datamodule.setup()"
   ]
  },
  {
   "cell_type": "code",
   "execution_count": 7,
   "metadata": {},
   "outputs": [],
   "source": [
    "loader = datamodule.train_dataloader()"
   ]
  },
  {
   "cell_type": "code",
   "execution_count": 8,
   "metadata": {},
   "outputs": [
    {
     "data": {
      "text/plain": [
       "CRBBOutput(lig0_feats=(DataBatch(x=[703, 6], edge_index=[2, 1428], y=[32, 12], batch=[703], ptr=[33]), DataBatch(y=[32, 11], pos=[703, 3], batch=[703], ptr=[33])), rsfeats_2d=[DataBatch(x=[758, 6], edge_index=[2, 1534], y=[32, 12], batch=[758], ptr=[33]), DataBatch(x=[696, 6], edge_index=[2, 1416], y=[32, 12], batch=[696], ptr=[33]), DataBatch(x=[758, 6], edge_index=[2, 1534], y=[32, 12], batch=[758], ptr=[33])], rsfeats_3d=[DataBatch(y=[32, 11], pos=[758, 3], batch=[758], ptr=[33]), DataBatch(y=[32, 11], pos=[696, 3], batch=[696], ptr=[33]), DataBatch(y=[32, 11], pos=[758, 3], batch=[758], ptr=[33])], rslengths=tensor([2, 2, 2, 2, 2, 2, 2, 2, 2, 2, 2, 2, 2, 2, 2, 2, 2, 2, 2, 2, 2, 2, 2, 2,\n",
       "        2, 2, 2, 2, 2, 2, 2, 2]), terminate=tensor([[False,  True, False],\n",
       "        [ True, False, False],\n",
       "        [False,  True, False],\n",
       "        [ True, False, False],\n",
       "        [False,  True, False],\n",
       "        [False,  True, False],\n",
       "        [False,  True, False],\n",
       "        [ True, False, False],\n",
       "        [False,  True, False],\n",
       "        [ True, False, False],\n",
       "        [False,  True, False],\n",
       "        [False,  True, False],\n",
       "        [False,  True, False],\n",
       "        [False,  True, False],\n",
       "        [False,  True, False],\n",
       "        [False,  True, False],\n",
       "        [False,  True, False],\n",
       "        [False,  True, False],\n",
       "        [False,  True, False],\n",
       "        [False,  True, False],\n",
       "        [False,  True, False],\n",
       "        [ True, False, False],\n",
       "        [False,  True, False],\n",
       "        [False,  True, False],\n",
       "        [False,  True, False],\n",
       "        [ True, False, False],\n",
       "        [False,  True, False],\n",
       "        [False,  True, False],\n",
       "        [ True, False, False],\n",
       "        [False,  True, False],\n",
       "        [ True, False, False],\n",
       "        [ True, False, False]]), pfeats=(DataBatch(x=[1358, 6], edge_index=[2, 2822], y=[32, 12], batch=[1358], ptr=[33]), DataBatch(y=[32, 11], pos=[1358, 3], batch=[1358], ptr=[33])), rxnfeats=tensor([[0, 0, 0,  ..., 0, 0, 0],\n",
       "        [0, 0, 0,  ..., 0, 0, 0],\n",
       "        [0, 0, 0,  ..., 0, 0, 0],\n",
       "        ...,\n",
       "        [0, 0, 0,  ..., 0, 0, 0],\n",
       "        [0, 0, 0,  ..., 0, 0, 0],\n",
       "        [0, 0, 0,  ..., 0, 0, 0]]))"
      ]
     },
     "execution_count": 8,
     "metadata": {},
     "output_type": "execute_result"
    }
   ],
   "source": [
    "next(iter(loader))"
   ]
  }
 ],
 "metadata": {
  "kernelspec": {
   "display_name": "thesis2",
   "language": "python",
   "name": "python3"
  },
  "language_info": {
   "codemirror_mode": {
    "name": "ipython",
    "version": 3
   },
   "file_extension": ".py",
   "mimetype": "text/x-python",
   "name": "python",
   "nbconvert_exporter": "python",
   "pygments_lexer": "ipython3",
   "version": "3.11.10"
  }
 },
 "nbformat": 4,
 "nbformat_minor": 2
}
